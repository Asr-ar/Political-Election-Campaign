{
 "cells": [
  {
   "cell_type": "markdown",
   "id": "d35c9218",
   "metadata": {},
   "source": [
    "## Setup"
   ]
  },
  {
   "cell_type": "markdown",
   "id": "00b49d89",
   "metadata": {},
   "source": [
    "Data manipulation libraries:"
   ]
  },
  {
   "cell_type": "code",
   "execution_count": 4,
   "id": "34573367",
   "metadata": {},
   "outputs": [],
   "source": [
    "import numpy  as np\n",
    "import pandas as pd"
   ]
  },
  {
   "cell_type": "markdown",
   "id": "d1e8601d",
   "metadata": {},
   "source": [
    "Visualization libraries:"
   ]
  },
  {
   "cell_type": "code",
   "execution_count": 5,
   "id": "66b5cdcd",
   "metadata": {},
   "outputs": [],
   "source": [
    "import matplotlib.pyplot  as plt\n",
    "import seaborn            as sns\n",
    "\n",
    "plt.style.use('fivethirtyeight')\n",
    "\n",
    "%matplotlib inline"
   ]
  },
  {
   "cell_type": "markdown",
   "id": "20911e8c",
   "metadata": {},
   "source": [
    "Pre-processing libraries:"
   ]
  },
  {
   "cell_type": "code",
   "execution_count": 6,
   "id": "06b5e09b",
   "metadata": {},
   "outputs": [],
   "source": [
    "from scipy import stats"
   ]
  },
  {
   "cell_type": "markdown",
   "id": "2ed68362",
   "metadata": {},
   "source": [
    "Storage libraries:"
   ]
  },
  {
   "cell_type": "code",
   "execution_count": 7,
   "id": "d07f23ef",
   "metadata": {},
   "outputs": [],
   "source": [
    "from sqlalchemy import create_engine"
   ]
  },
  {
   "cell_type": "markdown",
   "id": "62ded3e4",
   "metadata": {},
   "source": [
    "## Data-set"
   ]
  },
  {
   "cell_type": "markdown",
   "id": "3d3690ce",
   "metadata": {},
   "source": [
    "Since the majority of election campaigns happen at the end of the year, \n",
    "the sample to be selected will be between September 2018 to December 2018."
   ]
  },
  {
   "cell_type": "code",
   "execution_count": 8,
   "id": "dffed1b7",
   "metadata": {},
   "outputs": [],
   "source": [
    "def get_Data(num_weeks):\n",
    "    url='http://web.mta.info/developers/data/nyct/turnstile/turnstile_{}.txt'\n",
    "    file_list=[]\n",
    "    for week in num_weeks:\n",
    "        file_url=url.format(week)\n",
    "        file_list.append(pd.read_csv(file_url))\n",
    "    return pd.concat(file_list)\n",
    "\n",
    "num_weeks=[180908,180915,180922,180929,181006,181013,\n",
    "           181020,181027,181103,181110,181117,181124,\n",
    "           181201,181208,181215,181222,181229]\n",
    "Sep_Dec_2018=get_Data(num_weeks)"
   ]
  },
  {
   "cell_type": "markdown",
   "id": "6aa61658",
   "metadata": {},
   "source": [
    "## Data Overview"
   ]
  },
  {
   "cell_type": "code",
   "execution_count": 9,
   "id": "508bac7f",
   "metadata": {},
   "outputs": [
    {
     "name": "stdout",
     "output_type": "stream",
     "text": [
      "<class 'pandas.core.frame.DataFrame'>\n",
      "Int64Index: 3391706 entries, 0 to 201173\n",
      "Data columns (total 11 columns):\n",
      " #   Column                                                                Dtype \n",
      "---  ------                                                                ----- \n",
      " 0   C/A                                                                   object\n",
      " 1   UNIT                                                                  object\n",
      " 2   SCP                                                                   object\n",
      " 3   STATION                                                               object\n",
      " 4   LINENAME                                                              object\n",
      " 5   DIVISION                                                              object\n",
      " 6   DATE                                                                  object\n",
      " 7   TIME                                                                  object\n",
      " 8   DESC                                                                  object\n",
      " 9   ENTRIES                                                               int64 \n",
      " 10  EXITS                                                                 int64 \n",
      "dtypes: int64(2), object(9)\n",
      "memory usage: 310.5+ MB\n"
     ]
    }
   ],
   "source": [
    "Sep_Dec_2018.info()"
   ]
  },
  {
   "cell_type": "code",
   "execution_count": 10,
   "id": "dd0a0bfc",
   "metadata": {},
   "outputs": [
    {
     "data": {
      "text/html": [
       "<div>\n",
       "<style scoped>\n",
       "    .dataframe tbody tr th:only-of-type {\n",
       "        vertical-align: middle;\n",
       "    }\n",
       "\n",
       "    .dataframe tbody tr th {\n",
       "        vertical-align: top;\n",
       "    }\n",
       "\n",
       "    .dataframe thead th {\n",
       "        text-align: right;\n",
       "    }\n",
       "</style>\n",
       "<table border=\"1\" class=\"dataframe\">\n",
       "  <thead>\n",
       "    <tr style=\"text-align: right;\">\n",
       "      <th></th>\n",
       "      <th>C/A</th>\n",
       "      <th>UNIT</th>\n",
       "      <th>SCP</th>\n",
       "      <th>STATION</th>\n",
       "      <th>LINENAME</th>\n",
       "      <th>DIVISION</th>\n",
       "      <th>DATE</th>\n",
       "      <th>TIME</th>\n",
       "      <th>DESC</th>\n",
       "      <th>ENTRIES</th>\n",
       "      <th>EXITS</th>\n",
       "    </tr>\n",
       "  </thead>\n",
       "  <tbody>\n",
       "    <tr>\n",
       "      <th>0</th>\n",
       "      <td>A002</td>\n",
       "      <td>R051</td>\n",
       "      <td>02-00-00</td>\n",
       "      <td>59 ST</td>\n",
       "      <td>NQR456W</td>\n",
       "      <td>BMT</td>\n",
       "      <td>09/01/2018</td>\n",
       "      <td>00:00:00</td>\n",
       "      <td>REGULAR</td>\n",
       "      <td>6743736</td>\n",
       "      <td>2285840</td>\n",
       "    </tr>\n",
       "    <tr>\n",
       "      <th>1</th>\n",
       "      <td>A002</td>\n",
       "      <td>R051</td>\n",
       "      <td>02-00-00</td>\n",
       "      <td>59 ST</td>\n",
       "      <td>NQR456W</td>\n",
       "      <td>BMT</td>\n",
       "      <td>09/01/2018</td>\n",
       "      <td>04:00:00</td>\n",
       "      <td>REGULAR</td>\n",
       "      <td>6743756</td>\n",
       "      <td>2285844</td>\n",
       "    </tr>\n",
       "    <tr>\n",
       "      <th>2</th>\n",
       "      <td>A002</td>\n",
       "      <td>R051</td>\n",
       "      <td>02-00-00</td>\n",
       "      <td>59 ST</td>\n",
       "      <td>NQR456W</td>\n",
       "      <td>BMT</td>\n",
       "      <td>09/01/2018</td>\n",
       "      <td>08:00:00</td>\n",
       "      <td>REGULAR</td>\n",
       "      <td>6743769</td>\n",
       "      <td>2285873</td>\n",
       "    </tr>\n",
       "    <tr>\n",
       "      <th>3</th>\n",
       "      <td>A002</td>\n",
       "      <td>R051</td>\n",
       "      <td>02-00-00</td>\n",
       "      <td>59 ST</td>\n",
       "      <td>NQR456W</td>\n",
       "      <td>BMT</td>\n",
       "      <td>09/01/2018</td>\n",
       "      <td>12:00:00</td>\n",
       "      <td>REGULAR</td>\n",
       "      <td>6743855</td>\n",
       "      <td>2285946</td>\n",
       "    </tr>\n",
       "    <tr>\n",
       "      <th>4</th>\n",
       "      <td>A002</td>\n",
       "      <td>R051</td>\n",
       "      <td>02-00-00</td>\n",
       "      <td>59 ST</td>\n",
       "      <td>NQR456W</td>\n",
       "      <td>BMT</td>\n",
       "      <td>09/01/2018</td>\n",
       "      <td>16:00:00</td>\n",
       "      <td>REGULAR</td>\n",
       "      <td>6744069</td>\n",
       "      <td>2286006</td>\n",
       "    </tr>\n",
       "  </tbody>\n",
       "</table>\n",
       "</div>"
      ],
      "text/plain": [
       "    C/A  UNIT       SCP STATION LINENAME DIVISION        DATE      TIME  \\\n",
       "0  A002  R051  02-00-00   59 ST  NQR456W      BMT  09/01/2018  00:00:00   \n",
       "1  A002  R051  02-00-00   59 ST  NQR456W      BMT  09/01/2018  04:00:00   \n",
       "2  A002  R051  02-00-00   59 ST  NQR456W      BMT  09/01/2018  08:00:00   \n",
       "3  A002  R051  02-00-00   59 ST  NQR456W      BMT  09/01/2018  12:00:00   \n",
       "4  A002  R051  02-00-00   59 ST  NQR456W      BMT  09/01/2018  16:00:00   \n",
       "\n",
       "      DESC  ENTRIES  \\\n",
       "0  REGULAR  6743736   \n",
       "1  REGULAR  6743756   \n",
       "2  REGULAR  6743769   \n",
       "3  REGULAR  6743855   \n",
       "4  REGULAR  6744069   \n",
       "\n",
       "   EXITS                                                                 \n",
       "0                                            2285840                     \n",
       "1                                            2285844                     \n",
       "2                                            2285873                     \n",
       "3                                            2285946                     \n",
       "4                                            2286006                     "
      ]
     },
     "execution_count": 10,
     "metadata": {},
     "output_type": "execute_result"
    }
   ],
   "source": [
    "Sep_Dec_2018.head()"
   ]
  },
  {
   "cell_type": "code",
   "execution_count": 11,
   "id": "ebaec8bc",
   "metadata": {},
   "outputs": [
    {
     "data": {
      "text/html": [
       "<div>\n",
       "<style scoped>\n",
       "    .dataframe tbody tr th:only-of-type {\n",
       "        vertical-align: middle;\n",
       "    }\n",
       "\n",
       "    .dataframe tbody tr th {\n",
       "        vertical-align: top;\n",
       "    }\n",
       "\n",
       "    .dataframe thead th {\n",
       "        text-align: right;\n",
       "    }\n",
       "</style>\n",
       "<table border=\"1\" class=\"dataframe\">\n",
       "  <thead>\n",
       "    <tr style=\"text-align: right;\">\n",
       "      <th></th>\n",
       "      <th>C/A</th>\n",
       "      <th>UNIT</th>\n",
       "      <th>SCP</th>\n",
       "      <th>STATION</th>\n",
       "      <th>LINENAME</th>\n",
       "      <th>DIVISION</th>\n",
       "      <th>DATE</th>\n",
       "      <th>TIME</th>\n",
       "      <th>DESC</th>\n",
       "      <th>ENTRIES</th>\n",
       "      <th>EXITS</th>\n",
       "    </tr>\n",
       "  </thead>\n",
       "  <tbody>\n",
       "    <tr>\n",
       "      <th>92311</th>\n",
       "      <td>N500</td>\n",
       "      <td>R020</td>\n",
       "      <td>00-03-00</td>\n",
       "      <td>47-50 STS ROCK</td>\n",
       "      <td>BDFM</td>\n",
       "      <td>IND</td>\n",
       "      <td>10/21/2018</td>\n",
       "      <td>04:00:00</td>\n",
       "      <td>REGULAR</td>\n",
       "      <td>10334596</td>\n",
       "      <td>8889170</td>\n",
       "    </tr>\n",
       "    <tr>\n",
       "      <th>24671</th>\n",
       "      <td>C028</td>\n",
       "      <td>R216</td>\n",
       "      <td>01-06-01</td>\n",
       "      <td>BAY RIDGE-95 ST</td>\n",
       "      <td>R</td>\n",
       "      <td>BMT</td>\n",
       "      <td>10/14/2018</td>\n",
       "      <td>08:00:00</td>\n",
       "      <td>REGULAR</td>\n",
       "      <td>153364370</td>\n",
       "      <td>45710</td>\n",
       "    </tr>\n",
       "    <tr>\n",
       "      <th>8589</th>\n",
       "      <td>A049</td>\n",
       "      <td>R088</td>\n",
       "      <td>02-03-01</td>\n",
       "      <td>CORTLANDT ST</td>\n",
       "      <td>RNW</td>\n",
       "      <td>BMT</td>\n",
       "      <td>09/30/2018</td>\n",
       "      <td>01:00:00</td>\n",
       "      <td>REGULAR</td>\n",
       "      <td>778234</td>\n",
       "      <td>195359</td>\n",
       "    </tr>\n",
       "    <tr>\n",
       "      <th>105067</th>\n",
       "      <td>N601</td>\n",
       "      <td>R319</td>\n",
       "      <td>00-03-00</td>\n",
       "      <td>LEXINGTON AV/63</td>\n",
       "      <td>F</td>\n",
       "      <td>IND</td>\n",
       "      <td>11/23/2018</td>\n",
       "      <td>15:00:00</td>\n",
       "      <td>REGULAR</td>\n",
       "      <td>809134</td>\n",
       "      <td>842559</td>\n",
       "    </tr>\n",
       "    <tr>\n",
       "      <th>20323</th>\n",
       "      <td>C008</td>\n",
       "      <td>R099</td>\n",
       "      <td>00-04-00</td>\n",
       "      <td>DEKALB AV</td>\n",
       "      <td>BDNQR</td>\n",
       "      <td>BMT</td>\n",
       "      <td>10/09/2018</td>\n",
       "      <td>00:00:00</td>\n",
       "      <td>REGULAR</td>\n",
       "      <td>7847</td>\n",
       "      <td>0</td>\n",
       "    </tr>\n",
       "  </tbody>\n",
       "</table>\n",
       "</div>"
      ],
      "text/plain": [
       "         C/A  UNIT       SCP          STATION LINENAME DIVISION        DATE  \\\n",
       "92311   N500  R020  00-03-00   47-50 STS ROCK     BDFM      IND  10/21/2018   \n",
       "24671   C028  R216  01-06-01  BAY RIDGE-95 ST        R      BMT  10/14/2018   \n",
       "8589    A049  R088  02-03-01     CORTLANDT ST      RNW      BMT  09/30/2018   \n",
       "105067  N601  R319  00-03-00  LEXINGTON AV/63        F      IND  11/23/2018   \n",
       "20323   C008  R099  00-04-00        DEKALB AV    BDNQR      BMT  10/09/2018   \n",
       "\n",
       "            TIME     DESC    ENTRIES  \\\n",
       "92311   04:00:00  REGULAR   10334596   \n",
       "24671   08:00:00  REGULAR  153364370   \n",
       "8589    01:00:00  REGULAR     778234   \n",
       "105067  15:00:00  REGULAR     809134   \n",
       "20323   00:00:00  REGULAR       7847   \n",
       "\n",
       "        EXITS                                                                 \n",
       "92311                                             8889170                     \n",
       "24671                                               45710                     \n",
       "8589                                               195359                     \n",
       "105067                                             842559                     \n",
       "20323                                                   0                     "
      ]
     },
     "execution_count": 11,
     "metadata": {},
     "output_type": "execute_result"
    }
   ],
   "source": [
    "Sep_Dec_2018.sample(5)"
   ]
  },
  {
   "cell_type": "code",
   "execution_count": 12,
   "id": "e64484f0",
   "metadata": {},
   "outputs": [
    {
     "data": {
      "text/html": [
       "<div>\n",
       "<style scoped>\n",
       "    .dataframe tbody tr th:only-of-type {\n",
       "        vertical-align: middle;\n",
       "    }\n",
       "\n",
       "    .dataframe tbody tr th {\n",
       "        vertical-align: top;\n",
       "    }\n",
       "\n",
       "    .dataframe thead th {\n",
       "        text-align: right;\n",
       "    }\n",
       "</style>\n",
       "<table border=\"1\" class=\"dataframe\">\n",
       "  <thead>\n",
       "    <tr style=\"text-align: right;\">\n",
       "      <th></th>\n",
       "      <th>C/A</th>\n",
       "      <th>UNIT</th>\n",
       "      <th>SCP</th>\n",
       "      <th>STATION</th>\n",
       "      <th>LINENAME</th>\n",
       "      <th>DIVISION</th>\n",
       "      <th>DATE</th>\n",
       "      <th>TIME</th>\n",
       "      <th>DESC</th>\n",
       "      <th>ENTRIES</th>\n",
       "      <th>EXITS</th>\n",
       "    </tr>\n",
       "  </thead>\n",
       "  <tbody>\n",
       "    <tr>\n",
       "      <th>201169</th>\n",
       "      <td>TRAM2</td>\n",
       "      <td>R469</td>\n",
       "      <td>00-05-01</td>\n",
       "      <td>RIT-ROOSEVELT</td>\n",
       "      <td>R</td>\n",
       "      <td>RIT</td>\n",
       "      <td>12/28/2018</td>\n",
       "      <td>11:12:57</td>\n",
       "      <td>REGULAR</td>\n",
       "      <td>5554</td>\n",
       "      <td>366</td>\n",
       "    </tr>\n",
       "    <tr>\n",
       "      <th>201170</th>\n",
       "      <td>TRAM2</td>\n",
       "      <td>R469</td>\n",
       "      <td>00-05-01</td>\n",
       "      <td>RIT-ROOSEVELT</td>\n",
       "      <td>R</td>\n",
       "      <td>RIT</td>\n",
       "      <td>12/28/2018</td>\n",
       "      <td>12:00:00</td>\n",
       "      <td>REGULAR</td>\n",
       "      <td>5554</td>\n",
       "      <td>366</td>\n",
       "    </tr>\n",
       "    <tr>\n",
       "      <th>201171</th>\n",
       "      <td>TRAM2</td>\n",
       "      <td>R469</td>\n",
       "      <td>00-05-01</td>\n",
       "      <td>RIT-ROOSEVELT</td>\n",
       "      <td>R</td>\n",
       "      <td>RIT</td>\n",
       "      <td>12/28/2018</td>\n",
       "      <td>12:19:32</td>\n",
       "      <td>REGULAR</td>\n",
       "      <td>5554</td>\n",
       "      <td>366</td>\n",
       "    </tr>\n",
       "    <tr>\n",
       "      <th>201172</th>\n",
       "      <td>TRAM2</td>\n",
       "      <td>R469</td>\n",
       "      <td>00-05-01</td>\n",
       "      <td>RIT-ROOSEVELT</td>\n",
       "      <td>R</td>\n",
       "      <td>RIT</td>\n",
       "      <td>12/28/2018</td>\n",
       "      <td>16:00:00</td>\n",
       "      <td>REGULAR</td>\n",
       "      <td>5554</td>\n",
       "      <td>366</td>\n",
       "    </tr>\n",
       "    <tr>\n",
       "      <th>201173</th>\n",
       "      <td>TRAM2</td>\n",
       "      <td>R469</td>\n",
       "      <td>00-05-01</td>\n",
       "      <td>RIT-ROOSEVELT</td>\n",
       "      <td>R</td>\n",
       "      <td>RIT</td>\n",
       "      <td>12/28/2018</td>\n",
       "      <td>20:00:00</td>\n",
       "      <td>REGULAR</td>\n",
       "      <td>5554</td>\n",
       "      <td>366</td>\n",
       "    </tr>\n",
       "  </tbody>\n",
       "</table>\n",
       "</div>"
      ],
      "text/plain": [
       "          C/A  UNIT       SCP        STATION LINENAME DIVISION        DATE  \\\n",
       "201169  TRAM2  R469  00-05-01  RIT-ROOSEVELT        R      RIT  12/28/2018   \n",
       "201170  TRAM2  R469  00-05-01  RIT-ROOSEVELT        R      RIT  12/28/2018   \n",
       "201171  TRAM2  R469  00-05-01  RIT-ROOSEVELT        R      RIT  12/28/2018   \n",
       "201172  TRAM2  R469  00-05-01  RIT-ROOSEVELT        R      RIT  12/28/2018   \n",
       "201173  TRAM2  R469  00-05-01  RIT-ROOSEVELT        R      RIT  12/28/2018   \n",
       "\n",
       "            TIME     DESC  ENTRIES  \\\n",
       "201169  11:12:57  REGULAR     5554   \n",
       "201170  12:00:00  REGULAR     5554   \n",
       "201171  12:19:32  REGULAR     5554   \n",
       "201172  16:00:00  REGULAR     5554   \n",
       "201173  20:00:00  REGULAR     5554   \n",
       "\n",
       "        EXITS                                                                 \n",
       "201169                                                366                     \n",
       "201170                                                366                     \n",
       "201171                                                366                     \n",
       "201172                                                366                     \n",
       "201173                                                366                     "
      ]
     },
     "execution_count": 12,
     "metadata": {},
     "output_type": "execute_result"
    }
   ],
   "source": [
    "Sep_Dec_2018.tail()"
   ]
  },
  {
   "cell_type": "code",
   "execution_count": 13,
   "id": "5ed2d7f9",
   "metadata": {},
   "outputs": [
    {
     "name": "stdout",
     "output_type": "stream",
     "text": [
      "Data has 3391706 rows and 11 columns\n"
     ]
    }
   ],
   "source": [
    "print('Data has {} rows and {} columns'.format(Sep_Dec_2018.shape[0], Sep_Dec_2018.shape[1]))"
   ]
  },
  {
   "cell_type": "code",
   "execution_count": 14,
   "id": "8a3b9741",
   "metadata": {},
   "outputs": [
    {
     "name": "stdout",
     "output_type": "stream",
     "text": [
      "Data columns: \n",
      "['C/A', 'UNIT', 'SCP', 'STATION', 'LINENAME', 'DIVISION', 'DATE', 'TIME', 'DESC', 'ENTRIES']\n"
     ]
    }
   ],
   "source": [
    "print('Data columns: \\n{}'.format(list(Sep_Dec_2018.columns)[:-1]))"
   ]
  },
  {
   "cell_type": "markdown",
   "id": "16505360",
   "metadata": {},
   "source": [
    "## Feature Description"
   ]
  },
  {
   "cell_type": "markdown",
   "id": "79ee4744",
   "metadata": {},
   "source": [
    "- C/A  = Control Area (A002)\n",
    "- UNIT     = Remote Unit for a station (R051)\n",
    "- SCP      = Subunit Channel Position represents an specific address for a device (02-00-00)\n",
    "- STATION  = Represents the station name the device is located at\n",
    "- LINENAME = Represents all train lines that can be boarded at this station \n",
    "             Normally lines are represented by one character. \n",
    "- DIVISION = Represents the Line originally the station belonged to BMT, IRT, or IND   \n",
    "- DATE    = Represents the date (MM-DD-YY)\n",
    "- TIME     = Represents the time (hh:mm:ss) for a scheduled audit event\n",
    "- DESc     = Represent the \"REGULAR\" scheduled audit event (Normally occurs every 4 hours)\n",
    "            1. Audits may occur more that 4 hours due to planning, or troubleshooting activities. \n",
    "            2. Additionally, there may be a \"RECOVR AUD\" entry: This refers to a missed audit that was recovered.\n",
    "- ENTRIES  = The comulative entry register value for a device\n",
    "- EXIST    = The cumulative exit register value for a device"
   ]
  },
  {
   "cell_type": "markdown",
   "id": "65289399",
   "metadata": {},
   "source": [
    "## Checking for NaN"
   ]
  },
  {
   "cell_type": "code",
   "execution_count": 15,
   "id": "e2d47f56",
   "metadata": {},
   "outputs": [
    {
     "data": {
      "text/plain": [
       "False"
      ]
     },
     "execution_count": 15,
     "metadata": {},
     "output_type": "execute_result"
    }
   ],
   "source": [
    "Sep_Dec_2018.isnull().values.any()"
   ]
  },
  {
   "cell_type": "markdown",
   "id": "fe620f94",
   "metadata": {},
   "source": [
    "## Droping any duplicates"
   ]
  },
  {
   "cell_type": "code",
   "execution_count": 16,
   "id": "c2aa833f",
   "metadata": {},
   "outputs": [],
   "source": [
    "Sep_Dec_2018 = Sep_Dec_2018.drop_duplicates()"
   ]
  },
  {
   "cell_type": "code",
   "execution_count": 17,
   "id": "9d87d032",
   "metadata": {},
   "outputs": [
    {
     "data": {
      "text/plain": [
       "(3391706, 11)"
      ]
     },
     "execution_count": 17,
     "metadata": {},
     "output_type": "execute_result"
    }
   ],
   "source": [
    "Sep_Dec_2018.shape"
   ]
  },
  {
   "cell_type": "markdown",
   "id": "9b459bdb",
   "metadata": {},
   "source": [
    "## Striping "
   ]
  },
  {
   "cell_type": "markdown",
   "id": "9364d7d3",
   "metadata": {},
   "source": [
    "Remove the strip from the columns values "
   ]
  },
  {
   "cell_type": "code",
   "execution_count": 18,
   "id": "76f4739e",
   "metadata": {},
   "outputs": [],
   "source": [
    "cols = Sep_Dec_2018.select_dtypes(['object']).columns\n",
    "Sep_Dec_2018[cols] = Sep_Dec_2018[cols].apply(lambda x: x.str.strip())"
   ]
  },
  {
   "cell_type": "markdown",
   "id": "81ada2ce",
   "metadata": {},
   "source": [
    "Remove the strip from columns names"
   ]
  },
  {
   "cell_type": "code",
   "execution_count": 19,
   "id": "382826fe",
   "metadata": {},
   "outputs": [],
   "source": [
    "Sep_Dec_2018.columns = [column.strip() for column in Sep_Dec_2018.columns]"
   ]
  },
  {
   "cell_type": "markdown",
   "id": "a2bf45d6",
   "metadata": {},
   "source": [
    "## Check for Outliers (Boxplot)"
   ]
  },
  {
   "cell_type": "markdown",
   "id": "d85b5cd4",
   "metadata": {},
   "source": [
    "Over ENTRIES and EXITS columns"
   ]
  },
  {
   "cell_type": "code",
   "execution_count": 20,
   "id": "fcaabb5f",
   "metadata": {},
   "outputs": [
    {
     "name": "stderr",
     "output_type": "stream",
     "text": [
      "/Users/macbookproretina13inch/opt/anaconda3/lib/python3.8/site-packages/seaborn/_decorators.py:36: FutureWarning: Pass the following variable as a keyword arg: x. From version 0.12, the only valid positional argument will be `data`, and passing other arguments without an explicit keyword will result in an error or misinterpretation.\n",
      "  warnings.warn(\n"
     ]
    },
    {
     "data": {
      "image/png": "[encoded data removed]",
      "text/plain": [
       "<Figure size 432x288 with 1 Axes>"
      ]
     },
     "metadata": {
      "needs_background": "light"
     },
     "output_type": "display_data"
    }
   ],
   "source": [
    "sns.boxplot(Sep_Dec_2018.ENTRIES);"
   ]
  },
  {
   "cell_type": "code",
   "execution_count": 21,
   "id": "3765c19a",
   "metadata": {},
   "outputs": [
    {
     "name": "stderr",
     "output_type": "stream",
     "text": [
      "/Users/macbookproretina13inch/opt/anaconda3/lib/python3.8/site-packages/seaborn/_decorators.py:36: FutureWarning: Pass the following variable as a keyword arg: x. From version 0.12, the only valid positional argument will be `data`, and passing other arguments without an explicit keyword will result in an error or misinterpretation.\n",
      "  warnings.warn(\n"
     ]
    },
    {
     "data": {
      "image/png": "[encoded data removed]",
      "text/plain": [
       "<Figure size 432x288 with 1 Axes>"
      ]
     },
     "metadata": {
      "needs_background": "light"
     },
     "output_type": "display_data"
    }
   ],
   "source": [
    "sns.boxplot(Sep_Dec_2018.EXITS);"
   ]
  },
  {
   "cell_type": "markdown",
   "id": "e3e89c44",
   "metadata": {},
   "source": [
    "## Calculate The Interquartile Range (Boxplot) "
   ]
  },
  {
   "cell_type": "code",
   "execution_count": 22,
   "id": "34fe7685",
   "metadata": {},
   "outputs": [],
   "source": [
    "Q3=Sep_Dec_2018['ENTRIES'].quantile(q=0.75)\n",
    "Q1=Sep_Dec_2018['ENTRIES'].quantile(q=0.25)\n",
    "\n",
    "IQR= Q3-Q1\n",
    "Maximum_Num_Of_Entries= Q3+1.5*IQR  # The Maximum value will be used later to handle cumulative issue"
   ]
  },
  {
   "cell_type": "code",
   "execution_count": 23,
   "id": "6c429ec2",
   "metadata": {},
   "outputs": [
    {
     "name": "stderr",
     "output_type": "stream",
     "text": [
      "/Users/macbookproretina13inch/opt/anaconda3/lib/python3.8/site-packages/seaborn/_decorators.py:36: FutureWarning: Pass the following variable as a keyword arg: x. From version 0.12, the only valid positional argument will be `data`, and passing other arguments without an explicit keyword will result in an error or misinterpretation.\n",
      "  warnings.warn(\n"
     ]
    },
    {
     "data": {
      "image/png": "[encoded data removed]",
      "text/plain": [
       "<Figure size 432x288 with 1 Axes>"
      ]
     },
     "metadata": {
      "needs_background": "light"
     },
     "output_type": "display_data"
    }
   ],
   "source": [
    "sns.boxplot(Sep_Dec_2018[Sep_Dec_2018['ENTRIES']<=Maximum_Num_Of_Entries].ENTRIES);"
   ]
  },
  {
   "cell_type": "code",
   "execution_count": 24,
   "id": "e9460271",
   "metadata": {},
   "outputs": [],
   "source": [
    "Q3=Sep_Dec_2018['EXITS'].quantile(q=0.75)\n",
    "Q1=Sep_Dec_2018['EXITS'].quantile(q=0.25)\n",
    "\n",
    "IQR= Q3-Q1\n",
    "Maximum_Num_Of_EXITS= Q3+1.5*IQR  # The Maximum value will be used later to handle cumulative issue"
   ]
  },
  {
   "cell_type": "code",
   "execution_count": 25,
   "id": "8883e20f",
   "metadata": {},
   "outputs": [
    {
     "name": "stderr",
     "output_type": "stream",
     "text": [
      "/Users/macbookproretina13inch/opt/anaconda3/lib/python3.8/site-packages/seaborn/_decorators.py:36: FutureWarning: Pass the following variable as a keyword arg: x. From version 0.12, the only valid positional argument will be `data`, and passing other arguments without an explicit keyword will result in an error or misinterpretation.\n",
      "  warnings.warn(\n"
     ]
    },
    {
     "data": {
      "image/png": "[encoded data removed]",
      "text/plain": [
       "<Figure size 432x288 with 1 Axes>"
      ]
     },
     "metadata": {
      "needs_background": "light"
     },
     "output_type": "display_data"
    }
   ],
   "source": [
    "sns.boxplot(Sep_Dec_2018[Sep_Dec_2018['EXITS']<=Maximum_Num_Of_EXITS].EXITS);"
   ]
  },
  {
   "cell_type": "markdown",
   "id": "67d2353d",
   "metadata": {},
   "source": [
    "## Apply Z-Score To Remove The Outliers"
   ]
  },
  {
   "cell_type": "markdown",
   "id": "0fa945ae",
   "metadata": {},
   "source": [
    "Calulate the z-score of each value in the column and take the absolute value of it."
   ]
  },
  {
   "cell_type": "code",
   "execution_count": 26,
   "id": "4dc16579",
   "metadata": {},
   "outputs": [],
   "source": [
    "numeric_cols = ['ENTRIES', 'EXITS']"
   ]
  },
  {
   "cell_type": "code",
   "execution_count": 27,
   "id": "b337b815",
   "metadata": {},
   "outputs": [],
   "source": [
    "Sep_Dec_2018 = Sep_Dec_2018[(np.abs(stats.zscore(Sep_Dec_2018[numeric_cols])) < 3).all(axis=1)]"
   ]
  },
  {
   "cell_type": "markdown",
   "id": "768fe5db",
   "metadata": {},
   "source": [
    "##  Set all the values of STATION to be in Upper-case."
   ]
  },
  {
   "cell_type": "code",
   "execution_count": 28,
   "id": "2d747716",
   "metadata": {},
   "outputs": [],
   "source": [
    "Sep_Dec_2018['STATION'] = Sep_Dec_2018['STATION'].str.upper()"
   ]
  },
  {
   "cell_type": "markdown",
   "id": "38cba8fb",
   "metadata": {},
   "source": [
    "##  Drop the “Recovery readings in the DESc column"
   ]
  },
  {
   "cell_type": "code",
   "execution_count": 29,
   "id": "7a9085e7",
   "metadata": {},
   "outputs": [],
   "source": [
    "Sep_Dec_2018.drop(Sep_Dec_2018.index[Sep_Dec_2018['DESC'] == 'RECOVR AUD'], inplace = True)"
   ]
  },
  {
   "cell_type": "markdown",
   "id": "61ae4d6f",
   "metadata": {},
   "source": [
    "Since there is no need for the DESs column, we will drop it as well."
   ]
  },
  {
   "cell_type": "code",
   "execution_count": 30,
   "id": "275650ea",
   "metadata": {},
   "outputs": [],
   "source": [
    "Sep_Dec_2018 = Sep_Dec_2018.drop([\"DESC\"], axis=1, errors=\"ignore\")"
   ]
  },
  {
   "cell_type": "markdown",
   "id": "bcee4657",
   "metadata": {},
   "source": [
    "## Create a sub DataFrame \n",
    "  For togethersignified a unique turnstile."
   ]
  },
  {
   "cell_type": "code",
   "execution_count": 31,
   "id": "e9580804",
   "metadata": {},
   "outputs": [
    {
     "data": {
      "text/html": [
       "<div>\n",
       "<style scoped>\n",
       "    .dataframe tbody tr th:only-of-type {\n",
       "        vertical-align: middle;\n",
       "    }\n",
       "\n",
       "    .dataframe tbody tr th {\n",
       "        vertical-align: top;\n",
       "    }\n",
       "\n",
       "    .dataframe thead th {\n",
       "        text-align: right;\n",
       "    }\n",
       "</style>\n",
       "<table border=\"1\" class=\"dataframe\">\n",
       "  <thead>\n",
       "    <tr style=\"text-align: right;\">\n",
       "      <th></th>\n",
       "      <th>C/A</th>\n",
       "      <th>UNIT</th>\n",
       "      <th>SCP</th>\n",
       "      <th>STATION</th>\n",
       "      <th>DATE</th>\n",
       "      <th>EXITS</th>\n",
       "      <th>ENTRIES</th>\n",
       "    </tr>\n",
       "  </thead>\n",
       "  <tbody>\n",
       "    <tr>\n",
       "      <th>1282221</th>\n",
       "      <td>N505</td>\n",
       "      <td>R022</td>\n",
       "      <td>02-00-00</td>\n",
       "      <td>34 ST-HERALD SQ</td>\n",
       "      <td>10/12/2018</td>\n",
       "      <td>3642752</td>\n",
       "      <td>1317341</td>\n",
       "    </tr>\n",
       "    <tr>\n",
       "      <th>1358240</th>\n",
       "      <td>N531</td>\n",
       "      <td>R129</td>\n",
       "      <td>01-06-01</td>\n",
       "      <td>BERGEN ST</td>\n",
       "      <td>12/23/2018</td>\n",
       "      <td>2252083</td>\n",
       "      <td>620751</td>\n",
       "    </tr>\n",
       "    <tr>\n",
       "      <th>544580</th>\n",
       "      <td>K019</td>\n",
       "      <td>R413</td>\n",
       "      <td>00-03-00</td>\n",
       "      <td>KNICKERBOCKER</td>\n",
       "      <td>11/21/2018</td>\n",
       "      <td>1915178</td>\n",
       "      <td>4145553</td>\n",
       "    </tr>\n",
       "    <tr>\n",
       "      <th>1984401</th>\n",
       "      <td>R202</td>\n",
       "      <td>R042</td>\n",
       "      <td>00-00-02</td>\n",
       "      <td>BOWLING GREEN</td>\n",
       "      <td>11/11/2018</td>\n",
       "      <td>13961028</td>\n",
       "      <td>4042804</td>\n",
       "    </tr>\n",
       "    <tr>\n",
       "      <th>1596763</th>\n",
       "      <td>PTH13</td>\n",
       "      <td>R541</td>\n",
       "      <td>00-00-07</td>\n",
       "      <td>THIRTY ST</td>\n",
       "      <td>12/08/2018</td>\n",
       "      <td>12788</td>\n",
       "      <td>14775</td>\n",
       "    </tr>\n",
       "  </tbody>\n",
       "</table>\n",
       "</div>"
      ],
      "text/plain": [
       "           C/A  UNIT       SCP          STATION        DATE     EXITS  ENTRIES\n",
       "1282221   N505  R022  02-00-00  34 ST-HERALD SQ  10/12/2018   3642752  1317341\n",
       "1358240   N531  R129  01-06-01        BERGEN ST  12/23/2018   2252083   620751\n",
       "544580    K019  R413  00-03-00    KNICKERBOCKER  11/21/2018   1915178  4145553\n",
       "1984401   R202  R042  00-00-02    BOWLING GREEN  11/11/2018  13961028  4042804\n",
       "1596763  PTH13  R541  00-00-07        THIRTY ST  12/08/2018     12788    14775"
      ]
     },
     "execution_count": 31,
     "metadata": {},
     "output_type": "execute_result"
    }
   ],
   "source": [
    "mta_daily = (Sep_Dec_2018.groupby(['C/A', 'UNIT', 'SCP', 'STATION', 'DATE','EXITS'],as_index=False).ENTRIES.first())\n",
    "mta_daily.sample(5)"
   ]
  },
  {
   "cell_type": "markdown",
   "id": "7f20666e",
   "metadata": {},
   "source": [
    "## Feature Engineering "
   ]
  },
  {
   "cell_type": "markdown",
   "id": "c92c245b",
   "metadata": {},
   "source": [
    "Adding Date, Entries and Exits in the previous day. "
   ]
  },
  {
   "cell_type": "code",
   "execution_count": 32,
   "id": "464b4e3a",
   "metadata": {},
   "outputs": [
    {
     "name": "stderr",
     "output_type": "stream",
     "text": [
      "<ipython-input-32-3d40e579a44f>:1: FutureWarning: Indexing with multiple keys (implicitly converted to a tuple of keys) will be deprecated, use a list instead.\n",
      "  mta_daily[[\"PREV_DATE\", \"PREV_ENTRIES\",\"PREV_EXITS\"]] = (mta_daily.groupby([\"C/A\", \"UNIT\", \"SCP\", \"STATION\"])[\"DATE\",\"ENTRIES\",\"EXITS\"].apply(lambda grp: grp.shift(1)))\n"
     ]
    }
   ],
   "source": [
    "mta_daily[[\"PREV_DATE\", \"PREV_ENTRIES\",\"PREV_EXITS\"]] = (mta_daily.groupby([\"C/A\", \"UNIT\", \"SCP\", \"STATION\"])[\"DATE\",\"ENTRIES\",\"EXITS\"].apply(lambda grp: grp.shift(1)))\n"
   ]
  },
  {
   "cell_type": "code",
   "execution_count": 33,
   "id": "e56e3cef",
   "metadata": {},
   "outputs": [
    {
     "data": {
      "text/html": [
       "<div>\n",
       "<style scoped>\n",
       "    .dataframe tbody tr th:only-of-type {\n",
       "        vertical-align: middle;\n",
       "    }\n",
       "\n",
       "    .dataframe tbody tr th {\n",
       "        vertical-align: top;\n",
       "    }\n",
       "\n",
       "    .dataframe thead th {\n",
       "        text-align: right;\n",
       "    }\n",
       "</style>\n",
       "<table border=\"1\" class=\"dataframe\">\n",
       "  <thead>\n",
       "    <tr style=\"text-align: right;\">\n",
       "      <th></th>\n",
       "      <th>C/A</th>\n",
       "      <th>UNIT</th>\n",
       "      <th>SCP</th>\n",
       "      <th>STATION</th>\n",
       "      <th>DATE</th>\n",
       "      <th>EXITS</th>\n",
       "      <th>ENTRIES</th>\n",
       "      <th>PREV_DATE</th>\n",
       "      <th>PREV_ENTRIES</th>\n",
       "      <th>PREV_EXITS</th>\n",
       "    </tr>\n",
       "  </thead>\n",
       "  <tbody>\n",
       "    <tr>\n",
       "      <th>1291551</th>\n",
       "      <td>N506</td>\n",
       "      <td>R022</td>\n",
       "      <td>00-03-00</td>\n",
       "      <td>34 ST-HERALD SQ</td>\n",
       "      <td>11/13/2018</td>\n",
       "      <td>4025410</td>\n",
       "      <td>871289</td>\n",
       "      <td>11/12/2018</td>\n",
       "      <td>871222.0</td>\n",
       "      <td>4025033.0</td>\n",
       "    </tr>\n",
       "    <tr>\n",
       "      <th>286977</th>\n",
       "      <td>C010</td>\n",
       "      <td>R231</td>\n",
       "      <td>00-00-02</td>\n",
       "      <td>UNION ST</td>\n",
       "      <td>12/26/2018</td>\n",
       "      <td>3378645</td>\n",
       "      <td>10983284</td>\n",
       "      <td>12/26/2018</td>\n",
       "      <td>10983274.0</td>\n",
       "      <td>3378601.0</td>\n",
       "    </tr>\n",
       "    <tr>\n",
       "      <th>1239654</th>\n",
       "      <td>N420B</td>\n",
       "      <td>R317</td>\n",
       "      <td>00-00-00</td>\n",
       "      <td>CLINTON-WASH AV</td>\n",
       "      <td>11/24/2018</td>\n",
       "      <td>1832988</td>\n",
       "      <td>875624</td>\n",
       "      <td>11/24/2018</td>\n",
       "      <td>875617.0</td>\n",
       "      <td>1832921.0</td>\n",
       "    </tr>\n",
       "    <tr>\n",
       "      <th>2076666</th>\n",
       "      <td>R236</td>\n",
       "      <td>R045</td>\n",
       "      <td>00-00-01</td>\n",
       "      <td>GRD CNTRL-42 ST</td>\n",
       "      <td>11/15/2018</td>\n",
       "      <td>1051659</td>\n",
       "      <td>504190</td>\n",
       "      <td>11/15/2018</td>\n",
       "      <td>503985.0</td>\n",
       "      <td>1050302.0</td>\n",
       "    </tr>\n",
       "    <tr>\n",
       "      <th>801089</th>\n",
       "      <td>N095A</td>\n",
       "      <td>R014</td>\n",
       "      <td>01-00-04</td>\n",
       "      <td>FULTON ST</td>\n",
       "      <td>12/12/2018</td>\n",
       "      <td>509030</td>\n",
       "      <td>1721187</td>\n",
       "      <td>12/12/2018</td>\n",
       "      <td>1720928.0</td>\n",
       "      <td>508931.0</td>\n",
       "    </tr>\n",
       "  </tbody>\n",
       "</table>\n",
       "</div>"
      ],
      "text/plain": [
       "           C/A  UNIT       SCP          STATION        DATE    EXITS  \\\n",
       "1291551   N506  R022  00-03-00  34 ST-HERALD SQ  11/13/2018  4025410   \n",
       "286977    C010  R231  00-00-02         UNION ST  12/26/2018  3378645   \n",
       "1239654  N420B  R317  00-00-00  CLINTON-WASH AV  11/24/2018  1832988   \n",
       "2076666   R236  R045  00-00-01  GRD CNTRL-42 ST  11/15/2018  1051659   \n",
       "801089   N095A  R014  01-00-04        FULTON ST  12/12/2018   509030   \n",
       "\n",
       "          ENTRIES   PREV_DATE  PREV_ENTRIES  PREV_EXITS  \n",
       "1291551    871289  11/12/2018      871222.0   4025033.0  \n",
       "286977   10983284  12/26/2018    10983274.0   3378601.0  \n",
       "1239654    875624  11/24/2018      875617.0   1832921.0  \n",
       "2076666    504190  11/15/2018      503985.0   1050302.0  \n",
       "801089    1721187  12/12/2018     1720928.0    508931.0  "
      ]
     },
     "execution_count": 33,
     "metadata": {},
     "output_type": "execute_result"
    }
   ],
   "source": [
    "mta_daily.sample(5)"
   ]
  },
  {
   "cell_type": "markdown",
   "id": "6361ea4e",
   "metadata": {},
   "source": [
    "#### when adding new feature, it may contains nulls value, so we should check. "
   ]
  },
  {
   "cell_type": "code",
   "execution_count": 34,
   "id": "b126b88e",
   "metadata": {},
   "outputs": [
    {
     "data": {
      "text/plain": [
       "True"
      ]
     },
     "execution_count": 34,
     "metadata": {},
     "output_type": "execute_result"
    }
   ],
   "source": [
    "mta_daily.isnull().values.any()"
   ]
  },
  {
   "cell_type": "code",
   "execution_count": 35,
   "id": "b1f115a7",
   "metadata": {},
   "outputs": [
    {
     "data": {
      "text/plain": [
       "4742"
      ]
     },
     "execution_count": 35,
     "metadata": {},
     "output_type": "execute_result"
    }
   ],
   "source": [
    "mta_daily['PREV_DATE'].isnull().sum()"
   ]
  },
  {
   "cell_type": "code",
   "execution_count": 36,
   "id": "2f6c7f19",
   "metadata": {},
   "outputs": [
    {
     "data": {
      "text/plain": [
       "4742"
      ]
     },
     "execution_count": 36,
     "metadata": {},
     "output_type": "execute_result"
    }
   ],
   "source": [
    "mta_daily['PREV_ENTRIES'].isnull().sum()"
   ]
  },
  {
   "cell_type": "code",
   "execution_count": 37,
   "id": "2fdaa8b8",
   "metadata": {},
   "outputs": [
    {
     "data": {
      "text/plain": [
       "4742"
      ]
     },
     "execution_count": 37,
     "metadata": {},
     "output_type": "execute_result"
    }
   ],
   "source": [
    "mta_daily['PREV_EXITS'].isnull().sum()"
   ]
  },
  {
   "cell_type": "markdown",
   "id": "93e80c20",
   "metadata": {},
   "source": [
    "#### Dropping the NaN's:"
   ]
  },
  {
   "cell_type": "code",
   "execution_count": 38,
   "id": "cfa44b1b",
   "metadata": {},
   "outputs": [],
   "source": [
    "mta_daily.dropna(subset=['PREV_DATE','PREV_ENTRIES','PREV_EXITS'], axis=0, inplace=True)"
   ]
  },
  {
   "cell_type": "code",
   "execution_count": 39,
   "id": "e76a18aa",
   "metadata": {},
   "outputs": [
    {
     "data": {
      "text/plain": [
       "False"
      ]
     },
     "execution_count": 39,
     "metadata": {},
     "output_type": "execute_result"
    }
   ],
   "source": [
    "mta_daily.isnull().values.any()"
   ]
  },
  {
   "cell_type": "markdown",
   "id": "56e60cc9",
   "metadata": {},
   "source": [
    "## Handling the Turnstile counter issue "
   ]
  },
  {
   "cell_type": "code",
   "execution_count": 40,
   "id": "57b8bb59",
   "metadata": {},
   "outputs": [],
   "source": [
    "# Fixing counter For Entries\n",
    "def get_daily_counts_for_entries(row, max_counter):\n",
    "    counter = row[\"ENTRIES\"] - row[\"PREV_ENTRIES\"]\n",
    "    if counter < 0:\n",
    "        # Counter reversed?\n",
    "        counter = -counter\n",
    "    if counter > max_counter:\n",
    "        # Counter reset to 0? \n",
    "        counter = min(row[\"ENTRIES\"], row[\"PREV_ENTRIES\"])\n",
    "    if counter > max_counter:\n",
    "        # Still too big?\n",
    "        return 0\n",
    "    return counter\n",
    "\n",
    "\n",
    "# Fixing counter For Exits\n",
    "def get_daily_counts_for_exits(row, max_counter):\n",
    "    counter = row[\"EXITS\"] - row[\"PREV_EXITS\"]\n",
    "    if counter < 0:\n",
    "        # Counter reversed?\n",
    "        counter = -counter\n",
    "    if counter > max_counter:\n",
    "        # Counter reset to 0? \n",
    "        counter = min(row[\"EXITS\"], row[\"PREV_EXITS\"])\n",
    "    if counter > max_counter:\n",
    "        # Still too big?\n",
    "        return 0\n",
    "    return counter"
   ]
  },
  {
   "cell_type": "markdown",
   "id": "4586c9ef",
   "metadata": {},
   "source": [
    "Use the \"Maximum_Num_Of_Entries\" that was calculated from the previese IQR equation."
   ]
  },
  {
   "cell_type": "code",
   "execution_count": 41,
   "id": "3264518e",
   "metadata": {},
   "outputs": [
    {
     "data": {
      "text/html": [
       "<div>\n",
       "<style scoped>\n",
       "    .dataframe tbody tr th:only-of-type {\n",
       "        vertical-align: middle;\n",
       "    }\n",
       "\n",
       "    .dataframe tbody tr th {\n",
       "        vertical-align: top;\n",
       "    }\n",
       "\n",
       "    .dataframe thead th {\n",
       "        text-align: right;\n",
       "    }\n",
       "</style>\n",
       "<table border=\"1\" class=\"dataframe\">\n",
       "  <thead>\n",
       "    <tr style=\"text-align: right;\">\n",
       "      <th></th>\n",
       "      <th>C/A</th>\n",
       "      <th>UNIT</th>\n",
       "      <th>SCP</th>\n",
       "      <th>STATION</th>\n",
       "      <th>DATE</th>\n",
       "      <th>EXITS</th>\n",
       "      <th>ENTRIES</th>\n",
       "      <th>PREV_DATE</th>\n",
       "      <th>PREV_ENTRIES</th>\n",
       "      <th>PREV_EXITS</th>\n",
       "      <th>DAILY_ENTRIES</th>\n",
       "    </tr>\n",
       "  </thead>\n",
       "  <tbody>\n",
       "    <tr>\n",
       "      <th>1</th>\n",
       "      <td>A002</td>\n",
       "      <td>R051</td>\n",
       "      <td>02-00-00</td>\n",
       "      <td>59 ST</td>\n",
       "      <td>09/02/2018</td>\n",
       "      <td>2286148</td>\n",
       "      <td>6744555</td>\n",
       "      <td>09/02/2018</td>\n",
       "      <td>6744471.0</td>\n",
       "      <td>2286100.0</td>\n",
       "      <td>84.0</td>\n",
       "    </tr>\n",
       "    <tr>\n",
       "      <th>2</th>\n",
       "      <td>A002</td>\n",
       "      <td>R051</td>\n",
       "      <td>02-00-00</td>\n",
       "      <td>59 ST</td>\n",
       "      <td>09/02/2018</td>\n",
       "      <td>2286202</td>\n",
       "      <td>6744719</td>\n",
       "      <td>09/02/2018</td>\n",
       "      <td>6744555.0</td>\n",
       "      <td>2286148.0</td>\n",
       "      <td>164.0</td>\n",
       "    </tr>\n",
       "    <tr>\n",
       "      <th>3</th>\n",
       "      <td>A002</td>\n",
       "      <td>R051</td>\n",
       "      <td>02-00-00</td>\n",
       "      <td>59 ST</td>\n",
       "      <td>09/02/2018</td>\n",
       "      <td>2286237</td>\n",
       "      <td>6744871</td>\n",
       "      <td>09/02/2018</td>\n",
       "      <td>6744719.0</td>\n",
       "      <td>2286202.0</td>\n",
       "      <td>152.0</td>\n",
       "    </tr>\n",
       "    <tr>\n",
       "      <th>4</th>\n",
       "      <td>A002</td>\n",
       "      <td>R051</td>\n",
       "      <td>02-00-00</td>\n",
       "      <td>59 ST</td>\n",
       "      <td>09/05/2018</td>\n",
       "      <td>2287150</td>\n",
       "      <td>6746909</td>\n",
       "      <td>09/02/2018</td>\n",
       "      <td>6744871.0</td>\n",
       "      <td>2286237.0</td>\n",
       "      <td>2038.0</td>\n",
       "    </tr>\n",
       "    <tr>\n",
       "      <th>5</th>\n",
       "      <td>A002</td>\n",
       "      <td>R051</td>\n",
       "      <td>02-00-00</td>\n",
       "      <td>59 ST</td>\n",
       "      <td>09/05/2018</td>\n",
       "      <td>2287385</td>\n",
       "      <td>6747060</td>\n",
       "      <td>09/05/2018</td>\n",
       "      <td>6746909.0</td>\n",
       "      <td>2287150.0</td>\n",
       "      <td>151.0</td>\n",
       "    </tr>\n",
       "  </tbody>\n",
       "</table>\n",
       "</div>"
      ],
      "text/plain": [
       "    C/A  UNIT       SCP STATION        DATE    EXITS  ENTRIES   PREV_DATE  \\\n",
       "1  A002  R051  02-00-00   59 ST  09/02/2018  2286148  6744555  09/02/2018   \n",
       "2  A002  R051  02-00-00   59 ST  09/02/2018  2286202  6744719  09/02/2018   \n",
       "3  A002  R051  02-00-00   59 ST  09/02/2018  2286237  6744871  09/02/2018   \n",
       "4  A002  R051  02-00-00   59 ST  09/05/2018  2287150  6746909  09/02/2018   \n",
       "5  A002  R051  02-00-00   59 ST  09/05/2018  2287385  6747060  09/05/2018   \n",
       "\n",
       "   PREV_ENTRIES  PREV_EXITS  DAILY_ENTRIES  \n",
       "1     6744471.0   2286100.0           84.0  \n",
       "2     6744555.0   2286148.0          164.0  \n",
       "3     6744719.0   2286202.0          152.0  \n",
       "4     6744871.0   2286237.0         2038.0  \n",
       "5     6746909.0   2287150.0          151.0  "
      ]
     },
     "execution_count": 41,
     "metadata": {},
     "output_type": "execute_result"
    }
   ],
   "source": [
    "# Adding daily entries column.\n",
    "mta_daily[\"DAILY_ENTRIES\"] = mta_daily.apply(get_daily_counts_for_entries, axis=1, max_counter=Maximum_Num_Of_Entries)\n",
    "mta_daily.head()"
   ]
  },
  {
   "cell_type": "markdown",
   "id": "cfd564f2",
   "metadata": {},
   "source": [
    "Use the \"Maximum_Num_Of_EXITS\" that was calculated from  the previese IQR equation."
   ]
  },
  {
   "cell_type": "code",
   "execution_count": 42,
   "id": "d72f0d6b",
   "metadata": {},
   "outputs": [
    {
     "data": {
      "text/html": [
       "<div>\n",
       "<style scoped>\n",
       "    .dataframe tbody tr th:only-of-type {\n",
       "        vertical-align: middle;\n",
       "    }\n",
       "\n",
       "    .dataframe tbody tr th {\n",
       "        vertical-align: top;\n",
       "    }\n",
       "\n",
       "    .dataframe thead th {\n",
       "        text-align: right;\n",
       "    }\n",
       "</style>\n",
       "<table border=\"1\" class=\"dataframe\">\n",
       "  <thead>\n",
       "    <tr style=\"text-align: right;\">\n",
       "      <th></th>\n",
       "      <th>C/A</th>\n",
       "      <th>UNIT</th>\n",
       "      <th>SCP</th>\n",
       "      <th>STATION</th>\n",
       "      <th>DATE</th>\n",
       "      <th>EXITS</th>\n",
       "      <th>ENTRIES</th>\n",
       "      <th>PREV_DATE</th>\n",
       "      <th>PREV_ENTRIES</th>\n",
       "      <th>PREV_EXITS</th>\n",
       "      <th>DAILY_ENTRIES</th>\n",
       "      <th>DAILY_EXITS</th>\n",
       "    </tr>\n",
       "  </thead>\n",
       "  <tbody>\n",
       "    <tr>\n",
       "      <th>2704294</th>\n",
       "      <td>TRAM2</td>\n",
       "      <td>R469</td>\n",
       "      <td>00-05-01</td>\n",
       "      <td>RIT-ROOSEVELT</td>\n",
       "      <td>12/24/2018</td>\n",
       "      <td>366</td>\n",
       "      <td>5554</td>\n",
       "      <td>12/23/2018</td>\n",
       "      <td>5554.0</td>\n",
       "      <td>366.0</td>\n",
       "      <td>0.0</td>\n",
       "      <td>0.0</td>\n",
       "    </tr>\n",
       "    <tr>\n",
       "      <th>2704295</th>\n",
       "      <td>TRAM2</td>\n",
       "      <td>R469</td>\n",
       "      <td>00-05-01</td>\n",
       "      <td>RIT-ROOSEVELT</td>\n",
       "      <td>12/25/2018</td>\n",
       "      <td>366</td>\n",
       "      <td>5554</td>\n",
       "      <td>12/24/2018</td>\n",
       "      <td>5554.0</td>\n",
       "      <td>366.0</td>\n",
       "      <td>0.0</td>\n",
       "      <td>0.0</td>\n",
       "    </tr>\n",
       "    <tr>\n",
       "      <th>2704296</th>\n",
       "      <td>TRAM2</td>\n",
       "      <td>R469</td>\n",
       "      <td>00-05-01</td>\n",
       "      <td>RIT-ROOSEVELT</td>\n",
       "      <td>12/26/2018</td>\n",
       "      <td>366</td>\n",
       "      <td>5554</td>\n",
       "      <td>12/25/2018</td>\n",
       "      <td>5554.0</td>\n",
       "      <td>366.0</td>\n",
       "      <td>0.0</td>\n",
       "      <td>0.0</td>\n",
       "    </tr>\n",
       "    <tr>\n",
       "      <th>2704297</th>\n",
       "      <td>TRAM2</td>\n",
       "      <td>R469</td>\n",
       "      <td>00-05-01</td>\n",
       "      <td>RIT-ROOSEVELT</td>\n",
       "      <td>12/27/2018</td>\n",
       "      <td>366</td>\n",
       "      <td>5554</td>\n",
       "      <td>12/26/2018</td>\n",
       "      <td>5554.0</td>\n",
       "      <td>366.0</td>\n",
       "      <td>0.0</td>\n",
       "      <td>0.0</td>\n",
       "    </tr>\n",
       "    <tr>\n",
       "      <th>2704298</th>\n",
       "      <td>TRAM2</td>\n",
       "      <td>R469</td>\n",
       "      <td>00-05-01</td>\n",
       "      <td>RIT-ROOSEVELT</td>\n",
       "      <td>12/28/2018</td>\n",
       "      <td>366</td>\n",
       "      <td>5554</td>\n",
       "      <td>12/27/2018</td>\n",
       "      <td>5554.0</td>\n",
       "      <td>366.0</td>\n",
       "      <td>0.0</td>\n",
       "      <td>0.0</td>\n",
       "    </tr>\n",
       "  </tbody>\n",
       "</table>\n",
       "</div>"
      ],
      "text/plain": [
       "           C/A  UNIT       SCP        STATION        DATE  EXITS  ENTRIES  \\\n",
       "2704294  TRAM2  R469  00-05-01  RIT-ROOSEVELT  12/24/2018    366     5554   \n",
       "2704295  TRAM2  R469  00-05-01  RIT-ROOSEVELT  12/25/2018    366     5554   \n",
       "2704296  TRAM2  R469  00-05-01  RIT-ROOSEVELT  12/26/2018    366     5554   \n",
       "2704297  TRAM2  R469  00-05-01  RIT-ROOSEVELT  12/27/2018    366     5554   \n",
       "2704298  TRAM2  R469  00-05-01  RIT-ROOSEVELT  12/28/2018    366     5554   \n",
       "\n",
       "          PREV_DATE  PREV_ENTRIES  PREV_EXITS  DAILY_ENTRIES  DAILY_EXITS  \n",
       "2704294  12/23/2018        5554.0       366.0            0.0          0.0  \n",
       "2704295  12/24/2018        5554.0       366.0            0.0          0.0  \n",
       "2704296  12/25/2018        5554.0       366.0            0.0          0.0  \n",
       "2704297  12/26/2018        5554.0       366.0            0.0          0.0  \n",
       "2704298  12/27/2018        5554.0       366.0            0.0          0.0  "
      ]
     },
     "execution_count": 42,
     "metadata": {},
     "output_type": "execute_result"
    }
   ],
   "source": [
    "# Adding daily exits column.\n",
    "mta_daily[\"DAILY_EXITS\"] = mta_daily.apply(get_daily_counts_for_exits, axis=1, max_counter=Maximum_Num_Of_EXITS)\n",
    "mta_daily.tail()"
   ]
  },
  {
   "cell_type": "markdown",
   "id": "5edbe134",
   "metadata": {},
   "source": [
    "## Store the DataFrames "
   ]
  },
  {
   "cell_type": "markdown",
   "id": "63d6d713",
   "metadata": {},
   "source": [
    "#### As Database files: "
   ]
  },
  {
   "cell_type": "markdown",
   "id": "4ac1b2cc",
   "metadata": {},
   "source": [
    "Main DF : Sep_Dec_2018 "
   ]
  },
  {
   "cell_type": "code",
   "execution_count": 44,
   "id": "c2db6367",
   "metadata": {},
   "outputs": [],
   "source": [
    "engine = create_engine('sqlite:///Sep_Dec_2018.db', echo=True)\n",
    "sqlite_connection = engine.connect()"
   ]
  },
  {
   "cell_type": "markdown",
   "id": "d80eea61",
   "metadata": {},
   "source": [
    "Sub DF : mta_daily "
   ]
  },
  {
   "cell_type": "code",
   "execution_count": 49,
   "id": "fb79b8f9",
   "metadata": {},
   "outputs": [],
   "source": [
    "engine = create_engine('sqlite:///mta_daily.db', echo=True)\n",
    "sqlite_connection = engine.connect()"
   ]
  },
  {
   "cell_type": "markdown",
   "id": "241005f3",
   "metadata": {},
   "source": [
    "#### As CSV files:"
   ]
  },
  {
   "cell_type": "markdown",
   "id": "33c7051b",
   "metadata": {},
   "source": [
    "Main DF : Sep_Dec_2018 "
   ]
  },
  {
   "cell_type": "code",
   "execution_count": 48,
   "id": "365d6ed4",
   "metadata": {},
   "outputs": [],
   "source": [
    "Sep_Dec_2018.to_csv('Sep_Dec_2018.csv', index=False)"
   ]
  },
  {
   "cell_type": "markdown",
   "id": "87699bf9",
   "metadata": {},
   "source": [
    "Sub DF : mta_daily "
   ]
  },
  {
   "cell_type": "code",
   "execution_count": 50,
   "id": "672189b0",
   "metadata": {},
   "outputs": [],
   "source": [
    "mta_daily.to_csv('mta_daily.csv', index=False)"
   ]
  }
 ],
 "metadata": {
  "kernelspec": {
   "display_name": "Python 3",
   "language": "python",
   "name": "python3"
  },
  "language_info": {
   "codemirror_mode": {
    "name": "ipython",
    "version": 3
   },
   "file_extension": ".py",
   "mimetype": "text/x-python",
   "name": "python",
   "nbconvert_exporter": "python",
   "pygments_lexer": "ipython3",
   "version": "3.8.8"
  }
 },
 "nbformat": 4,
 "nbformat_minor": 5
}
