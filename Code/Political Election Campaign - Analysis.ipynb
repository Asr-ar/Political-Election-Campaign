{
 "cells": [
  {
   "cell_type": "markdown",
   "id": "3b53934b",
   "metadata": {},
   "source": [
    "## Goal of this project:\n",
    "    \n",
    "Given a sample of MTA turnstile data, we are challenged to determine the busiest station districts in New York City.    "
   ]
  },
  {
   "cell_type": "markdown",
   "id": "39cce88e",
   "metadata": {},
   "source": [
    "## Setup"
   ]
  },
  {
   "cell_type": "markdown",
   "id": "ef82884b",
   "metadata": {},
   "source": [
    "Data manipulation libraries:"
   ]
  },
  {
   "cell_type": "code",
   "execution_count": 3,
   "id": "07f343d8",
   "metadata": {},
   "outputs": [],
   "source": [
    "import numpy  as np\n",
    "import pandas as pd"
   ]
  },
  {
   "cell_type": "markdown",
   "id": "abf9760c",
   "metadata": {},
   "source": [
    "Visualization libraries:"
   ]
  },
  {
   "cell_type": "code",
   "execution_count": 4,
   "id": "b5e1b042",
   "metadata": {},
   "outputs": [],
   "source": [
    "import matplotlib.pyplot  as plt\n",
    "import seaborn            as sns\n",
    "\n",
    "plt.style.use('fivethirtyeight')\n",
    "\n",
    "%matplotlib inline"
   ]
  },
  {
   "cell_type": "markdown",
   "id": "e7d35095",
   "metadata": {},
   "source": [
    "Storage libraries:"
   ]
  },
  {
   "cell_type": "code",
   "execution_count": 5,
   "id": "b3e25c51",
   "metadata": {},
   "outputs": [],
   "source": [
    "from sqlalchemy import create_engine"
   ]
  },
  {
   "cell_type": "markdown",
   "id": "42af12e1",
   "metadata": {},
   "source": [
    "## Data-set"
   ]
  },
  {
   "cell_type": "code",
   "execution_count": 42,
   "id": "c22e0064",
   "metadata": {},
   "outputs": [],
   "source": [
    "MTA_daily = pd.read_csv('mta_daily.csv')"
   ]
  },
  {
   "cell_type": "code",
   "execution_count": 43,
   "id": "72c7e43e",
   "metadata": {},
   "outputs": [
    {
     "data": {
      "text/html": [
       "<div>\n",
       "<style scoped>\n",
       "    .dataframe tbody tr th:only-of-type {\n",
       "        vertical-align: middle;\n",
       "    }\n",
       "\n",
       "    .dataframe tbody tr th {\n",
       "        vertical-align: top;\n",
       "    }\n",
       "\n",
       "    .dataframe thead th {\n",
       "        text-align: right;\n",
       "    }\n",
       "</style>\n",
       "<table border=\"1\" class=\"dataframe\">\n",
       "  <thead>\n",
       "    <tr style=\"text-align: right;\">\n",
       "      <th></th>\n",
       "      <th>C/A</th>\n",
       "      <th>UNIT</th>\n",
       "      <th>SCP</th>\n",
       "      <th>STATION</th>\n",
       "      <th>DATE</th>\n",
       "      <th>EXITS</th>\n",
       "      <th>ENTRIES</th>\n",
       "      <th>PREV_DATE</th>\n",
       "      <th>PREV_ENTRIES</th>\n",
       "      <th>PREV_EXITS</th>\n",
       "      <th>DAILY_ENTRIES</th>\n",
       "      <th>DAILY_EXITS</th>\n",
       "    </tr>\n",
       "  </thead>\n",
       "  <tbody>\n",
       "    <tr>\n",
       "      <th>0</th>\n",
       "      <td>A002</td>\n",
       "      <td>R051</td>\n",
       "      <td>02-00-00</td>\n",
       "      <td>59 ST</td>\n",
       "      <td>09/02/2018</td>\n",
       "      <td>2286148</td>\n",
       "      <td>6744555</td>\n",
       "      <td>09/02/2018</td>\n",
       "      <td>6744471.0</td>\n",
       "      <td>2286100.0</td>\n",
       "      <td>84.0</td>\n",
       "      <td>48.0</td>\n",
       "    </tr>\n",
       "    <tr>\n",
       "      <th>1</th>\n",
       "      <td>A002</td>\n",
       "      <td>R051</td>\n",
       "      <td>02-00-00</td>\n",
       "      <td>59 ST</td>\n",
       "      <td>09/02/2018</td>\n",
       "      <td>2286202</td>\n",
       "      <td>6744719</td>\n",
       "      <td>09/02/2018</td>\n",
       "      <td>6744555.0</td>\n",
       "      <td>2286148.0</td>\n",
       "      <td>164.0</td>\n",
       "      <td>54.0</td>\n",
       "    </tr>\n",
       "    <tr>\n",
       "      <th>2</th>\n",
       "      <td>A002</td>\n",
       "      <td>R051</td>\n",
       "      <td>02-00-00</td>\n",
       "      <td>59 ST</td>\n",
       "      <td>09/02/2018</td>\n",
       "      <td>2286237</td>\n",
       "      <td>6744871</td>\n",
       "      <td>09/02/2018</td>\n",
       "      <td>6744719.0</td>\n",
       "      <td>2286202.0</td>\n",
       "      <td>152.0</td>\n",
       "      <td>35.0</td>\n",
       "    </tr>\n",
       "    <tr>\n",
       "      <th>3</th>\n",
       "      <td>A002</td>\n",
       "      <td>R051</td>\n",
       "      <td>02-00-00</td>\n",
       "      <td>59 ST</td>\n",
       "      <td>09/05/2018</td>\n",
       "      <td>2287150</td>\n",
       "      <td>6746909</td>\n",
       "      <td>09/02/2018</td>\n",
       "      <td>6744871.0</td>\n",
       "      <td>2286237.0</td>\n",
       "      <td>2038.0</td>\n",
       "      <td>913.0</td>\n",
       "    </tr>\n",
       "    <tr>\n",
       "      <th>4</th>\n",
       "      <td>A002</td>\n",
       "      <td>R051</td>\n",
       "      <td>02-00-00</td>\n",
       "      <td>59 ST</td>\n",
       "      <td>09/05/2018</td>\n",
       "      <td>2287385</td>\n",
       "      <td>6747060</td>\n",
       "      <td>09/05/2018</td>\n",
       "      <td>6746909.0</td>\n",
       "      <td>2287150.0</td>\n",
       "      <td>151.0</td>\n",
       "      <td>235.0</td>\n",
       "    </tr>\n",
       "  </tbody>\n",
       "</table>\n",
       "</div>"
      ],
      "text/plain": [
       "    C/A  UNIT       SCP STATION        DATE    EXITS  ENTRIES   PREV_DATE  \\\n",
       "0  A002  R051  02-00-00   59 ST  09/02/2018  2286148  6744555  09/02/2018   \n",
       "1  A002  R051  02-00-00   59 ST  09/02/2018  2286202  6744719  09/02/2018   \n",
       "2  A002  R051  02-00-00   59 ST  09/02/2018  2286237  6744871  09/02/2018   \n",
       "3  A002  R051  02-00-00   59 ST  09/05/2018  2287150  6746909  09/02/2018   \n",
       "4  A002  R051  02-00-00   59 ST  09/05/2018  2287385  6747060  09/05/2018   \n",
       "\n",
       "   PREV_ENTRIES  PREV_EXITS  DAILY_ENTRIES  DAILY_EXITS  \n",
       "0     6744471.0   2286100.0           84.0         48.0  \n",
       "1     6744555.0   2286148.0          164.0         54.0  \n",
       "2     6744719.0   2286202.0          152.0         35.0  \n",
       "3     6744871.0   2286237.0         2038.0        913.0  \n",
       "4     6746909.0   2287150.0          151.0        235.0  "
      ]
     },
     "execution_count": 43,
     "metadata": {},
     "output_type": "execute_result"
    }
   ],
   "source": [
    "MTA_daily.head()"
   ]
  },
  {
   "cell_type": "code",
   "execution_count": 44,
   "id": "c545b948",
   "metadata": {},
   "outputs": [
    {
     "data": {
      "text/html": [
       "<div>\n",
       "<style scoped>\n",
       "    .dataframe tbody tr th:only-of-type {\n",
       "        vertical-align: middle;\n",
       "    }\n",
       "\n",
       "    .dataframe tbody tr th {\n",
       "        vertical-align: top;\n",
       "    }\n",
       "\n",
       "    .dataframe thead th {\n",
       "        text-align: right;\n",
       "    }\n",
       "</style>\n",
       "<table border=\"1\" class=\"dataframe\">\n",
       "  <thead>\n",
       "    <tr style=\"text-align: right;\">\n",
       "      <th></th>\n",
       "      <th>EXITS</th>\n",
       "      <th>ENTRIES</th>\n",
       "      <th>PREV_ENTRIES</th>\n",
       "      <th>PREV_EXITS</th>\n",
       "      <th>DAILY_ENTRIES</th>\n",
       "      <th>DAILY_EXITS</th>\n",
       "    </tr>\n",
       "  </thead>\n",
       "  <tbody>\n",
       "    <tr>\n",
       "      <th>count</th>\n",
       "      <td>2.699557e+06</td>\n",
       "      <td>2.699557e+06</td>\n",
       "      <td>2.699557e+06</td>\n",
       "      <td>2.699557e+06</td>\n",
       "      <td>2.699557e+06</td>\n",
       "      <td>2.699557e+06</td>\n",
       "    </tr>\n",
       "    <tr>\n",
       "      <th>mean</th>\n",
       "      <td>6.729354e+06</td>\n",
       "      <td>1.021804e+07</td>\n",
       "      <td>1.021700e+07</td>\n",
       "      <td>6.728450e+06</td>\n",
       "      <td>6.111034e+02</td>\n",
       "      <td>4.034308e+02</td>\n",
       "    </tr>\n",
       "    <tr>\n",
       "      <th>std</th>\n",
       "      <td>3.374756e+07</td>\n",
       "      <td>4.034922e+07</td>\n",
       "      <td>4.034314e+07</td>\n",
       "      <td>3.374242e+07</td>\n",
       "      <td>5.122055e+04</td>\n",
       "      <td>3.072611e+04</td>\n",
       "    </tr>\n",
       "    <tr>\n",
       "      <th>min</th>\n",
       "      <td>0.000000e+00</td>\n",
       "      <td>0.000000e+00</td>\n",
       "      <td>0.000000e+00</td>\n",
       "      <td>0.000000e+00</td>\n",
       "      <td>0.000000e+00</td>\n",
       "      <td>0.000000e+00</td>\n",
       "    </tr>\n",
       "    <tr>\n",
       "      <th>25%</th>\n",
       "      <td>3.854950e+05</td>\n",
       "      <td>6.758110e+05</td>\n",
       "      <td>6.757820e+05</td>\n",
       "      <td>3.854700e+05</td>\n",
       "      <td>2.400000e+01</td>\n",
       "      <td>2.000000e+01</td>\n",
       "    </tr>\n",
       "    <tr>\n",
       "      <th>50%</th>\n",
       "      <td>1.639744e+06</td>\n",
       "      <td>2.741674e+06</td>\n",
       "      <td>2.741627e+06</td>\n",
       "      <td>1.639698e+06</td>\n",
       "      <td>1.020000e+02</td>\n",
       "      <td>7.000000e+01</td>\n",
       "    </tr>\n",
       "    <tr>\n",
       "      <th>75%</th>\n",
       "      <td>4.820774e+06</td>\n",
       "      <td>6.734915e+06</td>\n",
       "      <td>6.734794e+06</td>\n",
       "      <td>4.820646e+06</td>\n",
       "      <td>2.780000e+02</td>\n",
       "      <td>1.930000e+02</td>\n",
       "    </tr>\n",
       "    <tr>\n",
       "      <th>max</th>\n",
       "      <td>5.886257e+08</td>\n",
       "      <td>6.442641e+08</td>\n",
       "      <td>6.442630e+08</td>\n",
       "      <td>5.886256e+08</td>\n",
       "      <td>1.583178e+07</td>\n",
       "      <td>1.124244e+07</td>\n",
       "    </tr>\n",
       "  </tbody>\n",
       "</table>\n",
       "</div>"
      ],
      "text/plain": [
       "              EXITS       ENTRIES  PREV_ENTRIES    PREV_EXITS  DAILY_ENTRIES  \\\n",
       "count  2.699557e+06  2.699557e+06  2.699557e+06  2.699557e+06   2.699557e+06   \n",
       "mean   6.729354e+06  1.021804e+07  1.021700e+07  6.728450e+06   6.111034e+02   \n",
       "std    3.374756e+07  4.034922e+07  4.034314e+07  3.374242e+07   5.122055e+04   \n",
       "min    0.000000e+00  0.000000e+00  0.000000e+00  0.000000e+00   0.000000e+00   \n",
       "25%    3.854950e+05  6.758110e+05  6.757820e+05  3.854700e+05   2.400000e+01   \n",
       "50%    1.639744e+06  2.741674e+06  2.741627e+06  1.639698e+06   1.020000e+02   \n",
       "75%    4.820774e+06  6.734915e+06  6.734794e+06  4.820646e+06   2.780000e+02   \n",
       "max    5.886257e+08  6.442641e+08  6.442630e+08  5.886256e+08   1.583178e+07   \n",
       "\n",
       "        DAILY_EXITS  \n",
       "count  2.699557e+06  \n",
       "mean   4.034308e+02  \n",
       "std    3.072611e+04  \n",
       "min    0.000000e+00  \n",
       "25%    2.000000e+01  \n",
       "50%    7.000000e+01  \n",
       "75%    1.930000e+02  \n",
       "max    1.124244e+07  "
      ]
     },
     "execution_count": 44,
     "metadata": {},
     "output_type": "execute_result"
    }
   ],
   "source": [
    "MTA_daily.describe()"
   ]
  },
  {
   "cell_type": "markdown",
   "id": "0e6f3223",
   "metadata": {},
   "source": [
    "## Feature Engineering"
   ]
  },
  {
   "cell_type": "markdown",
   "id": "ba431f9a",
   "metadata": {},
   "source": [
    "Add new column represent traffic"
   ]
  },
  {
   "cell_type": "code",
   "execution_count": 45,
   "id": "a054dff8",
   "metadata": {},
   "outputs": [],
   "source": [
    "MTA_daily['turn_traffic']= MTA_daily.DAILY_ENTRIES + MTA_daily.DAILY_EXITS"
   ]
  },
  {
   "cell_type": "markdown",
   "id": "800c16ca",
   "metadata": {},
   "source": [
    "## Top 30 Stations in Traffic"
   ]
  },
  {
   "cell_type": "code",
   "execution_count": 46,
   "id": "65957bc1",
   "metadata": {},
   "outputs": [],
   "source": [
    "stations_totals = MTA_daily.groupby('STATION', as_index=False).turn_traffic.sum()\n",
    "stations_totals.rename(columns={'turn_traffic':'total_st_traffic'}, inplace=True)\n",
    "stations_totals.sort_values(by='total_st_traffic', ascending=False, inplace=True)"
   ]
  },
  {
   "cell_type": "code",
   "execution_count": 55,
   "id": "6482e013",
   "metadata": {},
   "outputs": [
    {
     "data": {
      "text/html": [
       "<div>\n",
       "<style scoped>\n",
       "    .dataframe tbody tr th:only-of-type {\n",
       "        vertical-align: middle;\n",
       "    }\n",
       "\n",
       "    .dataframe tbody tr th {\n",
       "        vertical-align: top;\n",
       "    }\n",
       "\n",
       "    .dataframe thead th {\n",
       "        text-align: right;\n",
       "    }\n",
       "</style>\n",
       "<table border=\"1\" class=\"dataframe\">\n",
       "  <thead>\n",
       "    <tr style=\"text-align: right;\">\n",
       "      <th></th>\n",
       "      <th>STATION</th>\n",
       "      <th>total_st_traffic</th>\n",
       "    </tr>\n",
       "  </thead>\n",
       "  <tbody>\n",
       "    <tr>\n",
       "      <th>91</th>\n",
       "      <td>67 AV</td>\n",
       "      <td>141332995.0</td>\n",
       "    </tr>\n",
       "    <tr>\n",
       "      <th>257</th>\n",
       "      <td>JOURNAL SQUARE</td>\n",
       "      <td>138807145.0</td>\n",
       "    </tr>\n",
       "    <tr>\n",
       "      <th>61</th>\n",
       "      <td>34 ST-PENN STA</td>\n",
       "      <td>112045681.0</td>\n",
       "    </tr>\n",
       "    <tr>\n",
       "      <th>51</th>\n",
       "      <td>25 ST</td>\n",
       "      <td>99585672.0</td>\n",
       "    </tr>\n",
       "    <tr>\n",
       "      <th>190</th>\n",
       "      <td>CORTELYOU RD</td>\n",
       "      <td>71232960.0</td>\n",
       "    </tr>\n",
       "  </tbody>\n",
       "</table>\n",
       "</div>"
      ],
      "text/plain": [
       "            STATION  total_st_traffic\n",
       "91            67 AV       141332995.0\n",
       "257  JOURNAL SQUARE       138807145.0\n",
       "61   34 ST-PENN STA       112045681.0\n",
       "51            25 ST        99585672.0\n",
       "190    CORTELYOU RD        71232960.0"
      ]
     },
     "execution_count": 55,
     "metadata": {},
     "output_type": "execute_result"
    }
   ],
   "source": [
    "stations_totals.head()"
   ]
  },
  {
   "cell_type": "code",
   "execution_count": 66,
   "id": "0aee654c",
   "metadata": {},
   "outputs": [
    {
     "data": {
      "image/png": "[encoded data removed]",
      "text/plain": [
       "<Figure size 1440x1440 with 1 Axes>"
      ]
     },
     "metadata": {
      "needs_background": "light"
     },
     "output_type": "display_data"
    }
   ],
   "source": [
    "plt.figure(figsize=[20,20])\n",
    "sns.barplot(x='total_st_traffic', y='STATION', data=stations_totals[:30], color='sandybrown')\n",
    "plt.title('Top 30 Trafficed Stations', fontsize=40)\n",
    "plt.xlabel('Total Traffic', fontsize=30)\n",
    "plt.ylabel('Station', fontsize=30);\n",
    "plt.savefig('TOP-30.png')"
   ]
  },
  {
   "cell_type": "markdown",
   "id": "4e82dee1",
   "metadata": {},
   "source": [
    "### Create new DF to locate the busiest stations"
   ]
  },
  {
   "cell_type": "code",
   "execution_count": 154,
   "id": "e7896eaf",
   "metadata": {},
   "outputs": [
    {
     "data": {
      "text/html": [
       "<div>\n",
       "<style scoped>\n",
       "    .dataframe tbody tr th:only-of-type {\n",
       "        vertical-align: middle;\n",
       "    }\n",
       "\n",
       "    .dataframe tbody tr th {\n",
       "        vertical-align: top;\n",
       "    }\n",
       "\n",
       "    .dataframe thead th {\n",
       "        text-align: right;\n",
       "    }\n",
       "</style>\n",
       "<table border=\"1\" class=\"dataframe\">\n",
       "  <thead>\n",
       "    <tr style=\"text-align: right;\">\n",
       "      <th></th>\n",
       "      <th>STATION</th>\n",
       "      <th>total_st_traffic</th>\n",
       "    </tr>\n",
       "  </thead>\n",
       "  <tbody>\n",
       "    <tr>\n",
       "      <th>91</th>\n",
       "      <td>67 AV</td>\n",
       "      <td>141332995.0</td>\n",
       "    </tr>\n",
       "    <tr>\n",
       "      <th>257</th>\n",
       "      <td>JOURNAL SQUARE</td>\n",
       "      <td>138807145.0</td>\n",
       "    </tr>\n",
       "    <tr>\n",
       "      <th>61</th>\n",
       "      <td>34 ST-PENN STA</td>\n",
       "      <td>112045681.0</td>\n",
       "    </tr>\n",
       "    <tr>\n",
       "      <th>51</th>\n",
       "      <td>25 ST</td>\n",
       "      <td>99585672.0</td>\n",
       "    </tr>\n",
       "    <tr>\n",
       "      <th>190</th>\n",
       "      <td>CORTELYOU RD</td>\n",
       "      <td>71232960.0</td>\n",
       "    </tr>\n",
       "  </tbody>\n",
       "</table>\n",
       "</div>"
      ],
      "text/plain": [
       "            STATION  total_st_traffic\n",
       "91            67 AV       141332995.0\n",
       "257  JOURNAL SQUARE       138807145.0\n",
       "61   34 ST-PENN STA       112045681.0\n",
       "51            25 ST        99585672.0\n",
       "190    CORTELYOU RD        71232960.0"
      ]
     },
     "execution_count": 154,
     "metadata": {},
     "output_type": "execute_result"
    }
   ],
   "source": [
    "Top_30_ST = stations_totals[['STATION', 'total_st_traffic']]\n",
    "\n",
    "Top_30_ST = Top_30_ST.drop_duplicates()\n",
    "\n",
    "Top_30_ST.sort_values(by='total_st_traffic', ascending=False, inplace=True)\n",
    "\n",
    "Top_30_ST = pd.DataFrame(stations_totals[:30])\n",
    "\n",
    "Top_30_ST.head()"
   ]
  },
  {
   "cell_type": "markdown",
   "id": "8d34d00b",
   "metadata": {},
   "source": [
    "### Determine the Stations for each District"
   ]
  },
  {
   "cell_type": "code",
   "execution_count": 155,
   "id": "b177b2f1",
   "metadata": {},
   "outputs": [],
   "source": [
    "Manhatten_Stations = ['34 ST-PENN STA', '25 ST', '5 AV/59 ST', '86 ST', 'PATH NEW WTC', '42 ST-BRYANT PK',\n",
    "                      '30 AV', '72 ST', '34 ST-HERALD SQ', 'GRD CNTRL-42 ST', '14 ST-UNION SQ', 'BOROUGH HALL',\n",
    "                      '161/YANKEE STAD', 'BEDFORD AV', 'ATL AV-BARCLAY','MOSHOLU PKWY','TOMPKINSVILLE','BURNSIDE AV']"
   ]
  },
  {
   "cell_type": "code",
   "execution_count": 156,
   "id": "6d96acb7",
   "metadata": {},
   "outputs": [],
   "source": [
    "Brooklyn_Stations  = ['CORTELYOU RD', '81 ST-MUSEUM', '116 ST', '50 ST', 'FLUSHING-MAIN','82 ST-JACKSON H']"
   ]
  },
  {
   "cell_type": "code",
   "execution_count": 157,
   "id": "84af77e1",
   "metadata": {},
   "outputs": [],
   "source": [
    "Queens_Stations    = ['67 AV', 'NEVINS ST', 'KINGSBRIDGE RD']"
   ]
  },
  {
   "cell_type": "code",
   "execution_count": 158,
   "id": "39368c73",
   "metadata": {},
   "outputs": [],
   "source": [
    "Bronx_Stations     = ['5 AV/53 ST', '23 ST']"
   ]
  },
  {
   "cell_type": "code",
   "execution_count": 162,
   "id": "63aa25f9",
   "metadata": {},
   "outputs": [],
   "source": [
    "def extractDstrict(x):\n",
    "    if x in  Bronx_Stations:\n",
    "        return 'Bronx'\n",
    "              \n",
    "    elif x in Queens_Stations :\n",
    "        return 'Queens' \n",
    "        \n",
    "    elif x in Brooklyn_Stations:\n",
    "        return'Brooklyn'\n",
    "        \n",
    "    elif x in Manhatten_Stations :\n",
    "        return'Manhatten'   \n",
    "    \n",
    "    else:\n",
    "        return 'New Jersey'"
   ]
  },
  {
   "cell_type": "code",
   "execution_count": 163,
   "id": "337bc749",
   "metadata": {},
   "outputs": [],
   "source": [
    "Top_30_ST['District'] = Top_30_ST['STATION'].apply(lambda x : extractDstrict(x))"
   ]
  },
  {
   "cell_type": "code",
   "execution_count": 164,
   "id": "43adc7f3",
   "metadata": {},
   "outputs": [
    {
     "data": {
      "text/html": [
       "<div>\n",
       "<style scoped>\n",
       "    .dataframe tbody tr th:only-of-type {\n",
       "        vertical-align: middle;\n",
       "    }\n",
       "\n",
       "    .dataframe tbody tr th {\n",
       "        vertical-align: top;\n",
       "    }\n",
       "\n",
       "    .dataframe thead th {\n",
       "        text-align: right;\n",
       "    }\n",
       "</style>\n",
       "<table border=\"1\" class=\"dataframe\">\n",
       "  <thead>\n",
       "    <tr style=\"text-align: right;\">\n",
       "      <th></th>\n",
       "      <th>STATION</th>\n",
       "      <th>total_st_traffic</th>\n",
       "      <th>District</th>\n",
       "    </tr>\n",
       "  </thead>\n",
       "  <tbody>\n",
       "    <tr>\n",
       "      <th>91</th>\n",
       "      <td>67 AV</td>\n",
       "      <td>141332995.0</td>\n",
       "      <td>Queens</td>\n",
       "    </tr>\n",
       "    <tr>\n",
       "      <th>257</th>\n",
       "      <td>JOURNAL SQUARE</td>\n",
       "      <td>138807145.0</td>\n",
       "      <td>New Jersey</td>\n",
       "    </tr>\n",
       "    <tr>\n",
       "      <th>61</th>\n",
       "      <td>34 ST-PENN STA</td>\n",
       "      <td>112045681.0</td>\n",
       "      <td>Manhatten</td>\n",
       "    </tr>\n",
       "    <tr>\n",
       "      <th>51</th>\n",
       "      <td>25 ST</td>\n",
       "      <td>99585672.0</td>\n",
       "      <td>Manhatten</td>\n",
       "    </tr>\n",
       "    <tr>\n",
       "      <th>190</th>\n",
       "      <td>CORTELYOU RD</td>\n",
       "      <td>71232960.0</td>\n",
       "      <td>Brooklyn</td>\n",
       "    </tr>\n",
       "    <tr>\n",
       "      <th>106</th>\n",
       "      <td>81 ST-MUSEUM</td>\n",
       "      <td>55972121.0</td>\n",
       "      <td>Brooklyn</td>\n",
       "    </tr>\n",
       "    <tr>\n",
       "      <th>75</th>\n",
       "      <td>5 AV/59 ST</td>\n",
       "      <td>49093997.0</td>\n",
       "      <td>Manhatten</td>\n",
       "    </tr>\n",
       "    <tr>\n",
       "      <th>314</th>\n",
       "      <td>PATH NEW WTC</td>\n",
       "      <td>48206375.0</td>\n",
       "      <td>Manhatten</td>\n",
       "    </tr>\n",
       "    <tr>\n",
       "      <th>56</th>\n",
       "      <td>30 AV</td>\n",
       "      <td>47960548.0</td>\n",
       "      <td>Manhatten</td>\n",
       "    </tr>\n",
       "    <tr>\n",
       "      <th>109</th>\n",
       "      <td>86 ST</td>\n",
       "      <td>47765396.0</td>\n",
       "      <td>Manhatten</td>\n",
       "    </tr>\n",
       "    <tr>\n",
       "      <th>66</th>\n",
       "      <td>42 ST-BRYANT PK</td>\n",
       "      <td>47571570.0</td>\n",
       "      <td>Manhatten</td>\n",
       "    </tr>\n",
       "    <tr>\n",
       "      <th>293</th>\n",
       "      <td>NEVINS ST</td>\n",
       "      <td>46677850.0</td>\n",
       "      <td>Queens</td>\n",
       "    </tr>\n",
       "    <tr>\n",
       "      <th>6</th>\n",
       "      <td>116 ST</td>\n",
       "      <td>46056772.0</td>\n",
       "      <td>Brooklyn</td>\n",
       "    </tr>\n",
       "    <tr>\n",
       "      <th>59</th>\n",
       "      <td>34 ST-HERALD SQ</td>\n",
       "      <td>38384167.0</td>\n",
       "      <td>Manhatten</td>\n",
       "    </tr>\n",
       "    <tr>\n",
       "      <th>96</th>\n",
       "      <td>72 ST</td>\n",
       "      <td>37912837.0</td>\n",
       "      <td>Manhatten</td>\n",
       "    </tr>\n",
       "    <tr>\n",
       "      <th>14</th>\n",
       "      <td>14 ST-UNION SQ</td>\n",
       "      <td>36652458.0</td>\n",
       "      <td>Manhatten</td>\n",
       "    </tr>\n",
       "    <tr>\n",
       "      <th>155</th>\n",
       "      <td>BOROUGH HALL</td>\n",
       "      <td>35778416.0</td>\n",
       "      <td>Manhatten</td>\n",
       "    </tr>\n",
       "    <tr>\n",
       "      <th>232</th>\n",
       "      <td>GRD CNTRL-42 ST</td>\n",
       "      <td>35776076.0</td>\n",
       "      <td>Manhatten</td>\n",
       "    </tr>\n",
       "    <tr>\n",
       "      <th>148</th>\n",
       "      <td>BEDFORD AV</td>\n",
       "      <td>34293903.0</td>\n",
       "      <td>Manhatten</td>\n",
       "    </tr>\n",
       "    <tr>\n",
       "      <th>124</th>\n",
       "      <td>ATL AV-BARCLAY</td>\n",
       "      <td>34088640.0</td>\n",
       "      <td>Manhatten</td>\n",
       "    </tr>\n",
       "    <tr>\n",
       "      <th>21</th>\n",
       "      <td>161/YANKEE STAD</td>\n",
       "      <td>33727584.0</td>\n",
       "      <td>Manhatten</td>\n",
       "    </tr>\n",
       "    <tr>\n",
       "      <th>284</th>\n",
       "      <td>MOSHOLU PKWY</td>\n",
       "      <td>33310911.0</td>\n",
       "      <td>Manhatten</td>\n",
       "    </tr>\n",
       "    <tr>\n",
       "      <th>77</th>\n",
       "      <td>50 ST</td>\n",
       "      <td>33039973.0</td>\n",
       "      <td>Brooklyn</td>\n",
       "    </tr>\n",
       "    <tr>\n",
       "      <th>74</th>\n",
       "      <td>5 AV/53 ST</td>\n",
       "      <td>30680071.0</td>\n",
       "      <td>Bronx</td>\n",
       "    </tr>\n",
       "    <tr>\n",
       "      <th>216</th>\n",
       "      <td>FLUSHING-MAIN</td>\n",
       "      <td>30351024.0</td>\n",
       "      <td>Brooklyn</td>\n",
       "    </tr>\n",
       "    <tr>\n",
       "      <th>107</th>\n",
       "      <td>82 ST-JACKSON H</td>\n",
       "      <td>30166639.0</td>\n",
       "      <td>Brooklyn</td>\n",
       "    </tr>\n",
       "    <tr>\n",
       "      <th>353</th>\n",
       "      <td>TOMPKINSVILLE</td>\n",
       "      <td>29641329.0</td>\n",
       "      <td>Manhatten</td>\n",
       "    </tr>\n",
       "    <tr>\n",
       "      <th>170</th>\n",
       "      <td>BURNSIDE AV</td>\n",
       "      <td>29245746.0</td>\n",
       "      <td>Manhatten</td>\n",
       "    </tr>\n",
       "    <tr>\n",
       "      <th>262</th>\n",
       "      <td>KINGSBRIDGE RD</td>\n",
       "      <td>28726641.0</td>\n",
       "      <td>Queens</td>\n",
       "    </tr>\n",
       "    <tr>\n",
       "      <th>183</th>\n",
       "      <td>CITY / BUS</td>\n",
       "      <td>28640537.0</td>\n",
       "      <td>New Jersey</td>\n",
       "    </tr>\n",
       "  </tbody>\n",
       "</table>\n",
       "</div>"
      ],
      "text/plain": [
       "             STATION  total_st_traffic    District\n",
       "91             67 AV       141332995.0      Queens\n",
       "257   JOURNAL SQUARE       138807145.0  New Jersey\n",
       "61    34 ST-PENN STA       112045681.0   Manhatten\n",
       "51             25 ST        99585672.0   Manhatten\n",
       "190     CORTELYOU RD        71232960.0    Brooklyn\n",
       "106     81 ST-MUSEUM        55972121.0    Brooklyn\n",
       "75        5 AV/59 ST        49093997.0   Manhatten\n",
       "314     PATH NEW WTC        48206375.0   Manhatten\n",
       "56             30 AV        47960548.0   Manhatten\n",
       "109            86 ST        47765396.0   Manhatten\n",
       "66   42 ST-BRYANT PK        47571570.0   Manhatten\n",
       "293        NEVINS ST        46677850.0      Queens\n",
       "6             116 ST        46056772.0    Brooklyn\n",
       "59   34 ST-HERALD SQ        38384167.0   Manhatten\n",
       "96             72 ST        37912837.0   Manhatten\n",
       "14    14 ST-UNION SQ        36652458.0   Manhatten\n",
       "155     BOROUGH HALL        35778416.0   Manhatten\n",
       "232  GRD CNTRL-42 ST        35776076.0   Manhatten\n",
       "148       BEDFORD AV        34293903.0   Manhatten\n",
       "124   ATL AV-BARCLAY        34088640.0   Manhatten\n",
       "21   161/YANKEE STAD        33727584.0   Manhatten\n",
       "284     MOSHOLU PKWY        33310911.0   Manhatten\n",
       "77             50 ST        33039973.0    Brooklyn\n",
       "74        5 AV/53 ST        30680071.0       Bronx\n",
       "216    FLUSHING-MAIN        30351024.0    Brooklyn\n",
       "107  82 ST-JACKSON H        30166639.0    Brooklyn\n",
       "353    TOMPKINSVILLE        29641329.0   Manhatten\n",
       "170      BURNSIDE AV        29245746.0   Manhatten\n",
       "262   KINGSBRIDGE RD        28726641.0      Queens\n",
       "183       CITY / BUS        28640537.0  New Jersey"
      ]
     },
     "execution_count": 164,
     "metadata": {},
     "output_type": "execute_result"
    }
   ],
   "source": [
    "Top_30_ST"
   ]
  },
  {
   "cell_type": "markdown",
   "id": "5626c2b6",
   "metadata": {},
   "source": [
    "### Districts Frequency"
   ]
  },
  {
   "cell_type": "code",
   "execution_count": 165,
   "id": "a83d01de",
   "metadata": {},
   "outputs": [
    {
     "data": {
      "text/html": [
       "<div>\n",
       "<style scoped>\n",
       "    .dataframe tbody tr th:only-of-type {\n",
       "        vertical-align: middle;\n",
       "    }\n",
       "\n",
       "    .dataframe tbody tr th {\n",
       "        vertical-align: top;\n",
       "    }\n",
       "\n",
       "    .dataframe thead th {\n",
       "        text-align: right;\n",
       "    }\n",
       "</style>\n",
       "<table border=\"1\" class=\"dataframe\">\n",
       "  <thead>\n",
       "    <tr style=\"text-align: right;\">\n",
       "      <th></th>\n",
       "      <th>Frequency</th>\n",
       "    </tr>\n",
       "  </thead>\n",
       "  <tbody>\n",
       "    <tr>\n",
       "      <th>Manhatten</th>\n",
       "      <td>18</td>\n",
       "    </tr>\n",
       "    <tr>\n",
       "      <th>Brooklyn</th>\n",
       "      <td>6</td>\n",
       "    </tr>\n",
       "    <tr>\n",
       "      <th>Queens</th>\n",
       "      <td>3</td>\n",
       "    </tr>\n",
       "    <tr>\n",
       "      <th>New Jersey</th>\n",
       "      <td>2</td>\n",
       "    </tr>\n",
       "    <tr>\n",
       "      <th>Bronx</th>\n",
       "      <td>1</td>\n",
       "    </tr>\n",
       "  </tbody>\n",
       "</table>\n",
       "</div>"
      ],
      "text/plain": [
       "            Frequency\n",
       "Manhatten          18\n",
       "Brooklyn            6\n",
       "Queens              3\n",
       "New Jersey          2\n",
       "Bronx               1"
      ]
     },
     "execution_count": 165,
     "metadata": {},
     "output_type": "execute_result"
    }
   ],
   "source": [
    "freq_table = pd.DataFrame(Top_30_ST.loc[:, \"District\"].value_counts())\n",
    "freq_table.columns = [\"Frequency\"]\n",
    "freq_table"
   ]
  },
  {
   "cell_type": "code",
   "execution_count": 166,
   "id": "291d724f",
   "metadata": {},
   "outputs": [
    {
     "data": {
      "text/html": [
       "<div>\n",
       "<style scoped>\n",
       "    .dataframe tbody tr th:only-of-type {\n",
       "        vertical-align: middle;\n",
       "    }\n",
       "\n",
       "    .dataframe tbody tr th {\n",
       "        vertical-align: top;\n",
       "    }\n",
       "\n",
       "    .dataframe thead th {\n",
       "        text-align: right;\n",
       "    }\n",
       "</style>\n",
       "<table border=\"1\" class=\"dataframe\">\n",
       "  <thead>\n",
       "    <tr style=\"text-align: right;\">\n",
       "      <th></th>\n",
       "      <th>Frequency</th>\n",
       "      <th>RelativeFrequency</th>\n",
       "    </tr>\n",
       "  </thead>\n",
       "  <tbody>\n",
       "    <tr>\n",
       "      <th>Manhatten</th>\n",
       "      <td>18</td>\n",
       "      <td>0.600000</td>\n",
       "    </tr>\n",
       "    <tr>\n",
       "      <th>Brooklyn</th>\n",
       "      <td>6</td>\n",
       "      <td>0.200000</td>\n",
       "    </tr>\n",
       "    <tr>\n",
       "      <th>Queens</th>\n",
       "      <td>3</td>\n",
       "      <td>0.100000</td>\n",
       "    </tr>\n",
       "    <tr>\n",
       "      <th>New Jersey</th>\n",
       "      <td>2</td>\n",
       "      <td>0.066667</td>\n",
       "    </tr>\n",
       "    <tr>\n",
       "      <th>Bronx</th>\n",
       "      <td>1</td>\n",
       "      <td>0.033333</td>\n",
       "    </tr>\n",
       "  </tbody>\n",
       "</table>\n",
       "</div>"
      ],
      "text/plain": [
       "            Frequency  RelativeFrequency\n",
       "Manhatten          18           0.600000\n",
       "Brooklyn            6           0.200000\n",
       "Queens              3           0.100000\n",
       "New Jersey          2           0.066667\n",
       "Bronx               1           0.033333"
      ]
     },
     "execution_count": 166,
     "metadata": {},
     "output_type": "execute_result"
    }
   ],
   "source": [
    "freq_table[\"RelativeFrequency\"] = freq_table[\"Frequency\"] / freq_table.Frequency.sum() #(f/sum of f )=R.f\n",
    "freq_table"
   ]
  },
  {
   "cell_type": "code",
   "execution_count": 172,
   "id": "e34040e8",
   "metadata": {},
   "outputs": [
    {
     "data": {
      "image/png": "[encoded data removed]",
      "text/plain": [
       "<Figure size 504x504 with 1 Axes>"
      ]
     },
     "metadata": {},
     "output_type": "display_data"
    }
   ],
   "source": [
    "plt.figure(figsize = [7,7])\n",
    "plt.title('Stations per districts', fontsize=25)\n",
    "plt.pie(freq_table.RelativeFrequency, labels=freq_table.index,autopct='%1.1f%%');\n",
    "plt.savefig('Districts_percentage.png')"
   ]
  },
  {
   "cell_type": "code",
   "execution_count": 173,
   "id": "33a4ddc6",
   "metadata": {},
   "outputs": [
    {
     "data": {
      "image/png": "[encoded data removed]",
      "text/plain": [
       "<Figure size 504x504 with 1 Axes>"
      ]
     },
     "metadata": {
      "needs_background": "light"
     },
     "output_type": "display_data"
    }
   ],
   "source": [
    "plt.figure(figsize = [7,7])\n",
    "plt.title('Stations per districts', fontsize=25)\n",
    "plt.xlabel('Frequency', fontsize=20)\n",
    "plt.ylabel('District', fontsize=20);\n",
    "plt.barh(freq_table.index,freq_table.RelativeFrequency);\n",
    "plt.savefig('District_frequency.png')"
   ]
  },
  {
   "cell_type": "code",
   "execution_count": 178,
   "id": "98869ee4",
   "metadata": {},
   "outputs": [
    {
     "data": {
      "image/png": "[encoded data removed]",
      "text/plain": [
       "<Figure size 504x504 with 1 Axes>"
      ]
     },
     "metadata": {
      "needs_background": "light"
     },
     "output_type": "display_data"
    }
   ],
   "source": [
    "plt.figure(figsize = [7,7])\n",
    "plt.title('Traffic per Districts', fontsize=25)\n",
    "plt.xlabel('Total Traffic', fontsize=20)\n",
    "plt.ylabel('District', fontsize=20);\n",
    "plt.barh(freq_table.index,freq_table.RelativeFrequency);\n",
    "plt.savefig('District_Traffic.png')"
   ]
  },
  {
   "cell_type": "markdown",
   "id": "2b1215eb",
   "metadata": {},
   "source": [
    "## Top 10 Stations in Traffic"
   ]
  },
  {
   "cell_type": "code",
   "execution_count": 197,
   "id": "a77f9015",
   "metadata": {},
   "outputs": [
    {
     "data": {
      "image/png": "[encoded data removed]",
      "text/plain": [
       "<Figure size 1440x1440 with 1 Axes>"
      ]
     },
     "metadata": {},
     "output_type": "display_data"
    }
   ],
   "source": [
    "plt.figure(figsize=[20,20])\n",
    "sns.barplot(x='total_st_traffic', y='STATION', data=stations_totals[:10], color='sandybrown')\n",
    "plt.title('Top 30 Trafficed Stations', fontsize=40)\n",
    "plt.xlabel('Total Traffic', fontsize=30)\n",
    "plt.ylabel('Station', fontsize=30);\n",
    "plt.savefig('TOP-10.png')"
   ]
  },
  {
   "cell_type": "markdown",
   "id": "e7044883",
   "metadata": {},
   "source": [
    "## Traffic Per Days"
   ]
  },
  {
   "cell_type": "code",
   "execution_count": 179,
   "id": "3831c48c",
   "metadata": {},
   "outputs": [],
   "source": [
    "#Assume focus on top ten total traffic\n",
    "n=10\n",
    "\n",
    "#increase to top 10\n",
    "s = [each for _, each in stations_totals[:n]['STATION'].items()]"
   ]
  },
  {
   "cell_type": "code",
   "execution_count": 181,
   "id": "a107b506",
   "metadata": {},
   "outputs": [],
   "source": [
    "top_10 = pd.DataFrame(MTA_daily[MTA_daily.STATION.isin(s)])"
   ]
  },
  {
   "cell_type": "markdown",
   "id": "11d6a540",
   "metadata": {},
   "source": [
    "## Feature Engeeniring "
   ]
  },
  {
   "cell_type": "markdown",
   "id": "146a6f97",
   "metadata": {},
   "source": [
    "Adding day per week column. "
   ]
  },
  {
   "cell_type": "code",
   "execution_count": 183,
   "id": "931e4052",
   "metadata": {},
   "outputs": [],
   "source": [
    "MTA_daily['day_of_week'] = pd.to_datetime(MTA_daily['DATE']).dt.dayofweek"
   ]
  },
  {
   "cell_type": "markdown",
   "id": "25aad76e",
   "metadata": {},
   "source": [
    "Determine Daily Cumulative traffic by day of week."
   ]
  },
  {
   "cell_type": "code",
   "execution_count": 198,
   "id": "c54d85ef",
   "metadata": {},
   "outputs": [],
   "source": [
    "daily_df = MTA_daily[MTA_daily.STATION.isin(s[:n])].groupby(['STATION','day_of_week'], as_index=False).turn_traffic.sum()"
   ]
  },
  {
   "cell_type": "markdown",
   "id": "119bfef6",
   "metadata": {},
   "source": [
    "Rename 'turn_traffic' to be 'daily_traffic'"
   ]
  },
  {
   "cell_type": "code",
   "execution_count": 199,
   "id": "67e0507d",
   "metadata": {},
   "outputs": [],
   "source": [
    "daily_df.rename(columns={'turn_traffic':'daily_traffic'}, inplace=True)"
   ]
  },
  {
   "cell_type": "code",
   "execution_count": 186,
   "id": "e50ea713",
   "metadata": {},
   "outputs": [
    {
     "data": {
      "image/png": "[encoded data removed]",
      "text/plain": [
       "<Figure size 432x288 with 1 Axes>"
      ]
     },
     "metadata": {
      "needs_background": "light"
     },
     "output_type": "display_data"
    }
   ],
   "source": [
    "sns.barplot(x='day_of_week', y='daily_traffic', data=daily_df, color='b')\n",
    "plt.xlabel('Day of Week')\n",
    "plt.ylabel('Number of People')\n",
    "plt.title('Cumulative Daily Traffic');\n",
    "plt.savefig('Cumulative Daily Traffic')"
   ]
  },
  {
   "cell_type": "markdown",
   "id": "dffbba99",
   "metadata": {},
   "source": [
    "#### New DF for Weekday"
   ]
  },
  {
   "cell_type": "code",
   "execution_count": 187,
   "id": "e1ee0c47",
   "metadata": {},
   "outputs": [],
   "source": [
    "wkday_df = pd.DataFrame(MTA_daily[MTA_daily.day_of_week < 5])"
   ]
  },
  {
   "cell_type": "code",
   "execution_count": 188,
   "id": "1ad11fc9",
   "metadata": {},
   "outputs": [
    {
     "data": {
      "text/html": [
       "<div>\n",
       "<style scoped>\n",
       "    .dataframe tbody tr th:only-of-type {\n",
       "        vertical-align: middle;\n",
       "    }\n",
       "\n",
       "    .dataframe tbody tr th {\n",
       "        vertical-align: top;\n",
       "    }\n",
       "\n",
       "    .dataframe thead th {\n",
       "        text-align: right;\n",
       "    }\n",
       "</style>\n",
       "<table border=\"1\" class=\"dataframe\">\n",
       "  <thead>\n",
       "    <tr style=\"text-align: right;\">\n",
       "      <th></th>\n",
       "      <th>STATION</th>\n",
       "      <th>turn_traffic</th>\n",
       "    </tr>\n",
       "  </thead>\n",
       "  <tbody>\n",
       "    <tr>\n",
       "      <th>257</th>\n",
       "      <td>JOURNAL SQUARE</td>\n",
       "      <td>102616391.0</td>\n",
       "    </tr>\n",
       "    <tr>\n",
       "      <th>51</th>\n",
       "      <td>25 ST</td>\n",
       "      <td>99441152.0</td>\n",
       "    </tr>\n",
       "    <tr>\n",
       "      <th>61</th>\n",
       "      <td>34 ST-PENN STA</td>\n",
       "      <td>95657471.0</td>\n",
       "    </tr>\n",
       "    <tr>\n",
       "      <th>75</th>\n",
       "      <td>5 AV/59 ST</td>\n",
       "      <td>48031156.0</td>\n",
       "    </tr>\n",
       "    <tr>\n",
       "      <th>66</th>\n",
       "      <td>42 ST-BRYANT PK</td>\n",
       "      <td>46547006.0</td>\n",
       "    </tr>\n",
       "    <tr>\n",
       "      <th>314</th>\n",
       "      <td>PATH NEW WTC</td>\n",
       "      <td>39501090.0</td>\n",
       "    </tr>\n",
       "    <tr>\n",
       "      <th>106</th>\n",
       "      <td>81 ST-MUSEUM</td>\n",
       "      <td>37791795.0</td>\n",
       "    </tr>\n",
       "    <tr>\n",
       "      <th>96</th>\n",
       "      <td>72 ST</td>\n",
       "      <td>36081434.0</td>\n",
       "    </tr>\n",
       "    <tr>\n",
       "      <th>155</th>\n",
       "      <td>BOROUGH HALL</td>\n",
       "      <td>34995170.0</td>\n",
       "    </tr>\n",
       "    <tr>\n",
       "      <th>109</th>\n",
       "      <td>86 ST</td>\n",
       "      <td>34296010.0</td>\n",
       "    </tr>\n",
       "  </tbody>\n",
       "</table>\n",
       "</div>"
      ],
      "text/plain": [
       "             STATION  turn_traffic\n",
       "257   JOURNAL SQUARE   102616391.0\n",
       "51             25 ST    99441152.0\n",
       "61    34 ST-PENN STA    95657471.0\n",
       "75        5 AV/59 ST    48031156.0\n",
       "66   42 ST-BRYANT PK    46547006.0\n",
       "314     PATH NEW WTC    39501090.0\n",
       "106     81 ST-MUSEUM    37791795.0\n",
       "96             72 ST    36081434.0\n",
       "155     BOROUGH HALL    34995170.0\n",
       "109            86 ST    34296010.0"
      ]
     },
     "execution_count": 188,
     "metadata": {},
     "output_type": "execute_result"
    }
   ],
   "source": [
    "wkday_rank = wkday_df.groupby(['STATION'], as_index=False).turn_traffic.sum()\n",
    "wkday_rank.sort_values('turn_traffic', ascending=False, inplace=True)\n",
    "wkday_rank.head(10)"
   ]
  },
  {
   "cell_type": "code",
   "execution_count": 190,
   "id": "2b175dd1",
   "metadata": {},
   "outputs": [
    {
     "data": {
      "image/png": "[encoded data removed]",
      "text/plain": [
       "<Figure size 1440x720 with 1 Axes>"
      ]
     },
     "metadata": {
      "needs_background": "light"
     },
     "output_type": "display_data"
    }
   ],
   "source": [
    "plt.figure(figsize=(20,10))\n",
    "sns.barplot(x='turn_traffic', y='STATION', data=wkday_rank[:10], palette='coolwarm')\n",
    "plt.title('Total Station Traffic (Weekdays)',size=25)\n",
    "plt.ylabel('Station',size=25)\n",
    "plt.xlabel('Cumulative Number of People',size=25);\n",
    "plt.savefig('Total Station Traffic (Weekdays)')"
   ]
  },
  {
   "cell_type": "code",
   "execution_count": 191,
   "id": "a1cd59d1",
   "metadata": {},
   "outputs": [
    {
     "data": {
      "text/html": [
       "<div>\n",
       "<style scoped>\n",
       "    .dataframe tbody tr th:only-of-type {\n",
       "        vertical-align: middle;\n",
       "    }\n",
       "\n",
       "    .dataframe tbody tr th {\n",
       "        vertical-align: top;\n",
       "    }\n",
       "\n",
       "    .dataframe thead th {\n",
       "        text-align: right;\n",
       "    }\n",
       "</style>\n",
       "<table border=\"1\" class=\"dataframe\">\n",
       "  <thead>\n",
       "    <tr style=\"text-align: right;\">\n",
       "      <th></th>\n",
       "      <th>STATION</th>\n",
       "      <th>day_of_week</th>\n",
       "      <th>mean_d_traffic</th>\n",
       "    </tr>\n",
       "  </thead>\n",
       "  <tbody>\n",
       "    <tr>\n",
       "      <th>0</th>\n",
       "      <td>25 ST</td>\n",
       "      <td>5</td>\n",
       "      <td>4.940941e+03</td>\n",
       "    </tr>\n",
       "    <tr>\n",
       "      <th>1</th>\n",
       "      <td>25 ST</td>\n",
       "      <td>6</td>\n",
       "      <td>3.560235e+03</td>\n",
       "    </tr>\n",
       "    <tr>\n",
       "      <th>2</th>\n",
       "      <td>25 ST</td>\n",
       "      <td>0</td>\n",
       "      <td>5.453059e+03</td>\n",
       "    </tr>\n",
       "    <tr>\n",
       "      <th>3</th>\n",
       "      <td>25 ST</td>\n",
       "      <td>1</td>\n",
       "      <td>2.915239e+06</td>\n",
       "    </tr>\n",
       "    <tr>\n",
       "      <th>4</th>\n",
       "      <td>25 ST</td>\n",
       "      <td>2</td>\n",
       "      <td>1.461156e+06</td>\n",
       "    </tr>\n",
       "  </tbody>\n",
       "</table>\n",
       "</div>"
      ],
      "text/plain": [
       "  STATION  day_of_week  mean_d_traffic\n",
       "0   25 ST            5    4.940941e+03\n",
       "1   25 ST            6    3.560235e+03\n",
       "2   25 ST            0    5.453059e+03\n",
       "3   25 ST            1    2.915239e+06\n",
       "4   25 ST            2    1.461156e+06"
      ]
     },
     "execution_count": 191,
     "metadata": {},
     "output_type": "execute_result"
    }
   ],
   "source": [
    "df = MTA_daily[MTA_daily.STATION.isin(s)].groupby(['STATION', 'DATE', 'day_of_week'], as_index=False).turn_traffic.sum()\n",
    "df['mean_d_traffic'] = df.groupby(['STATION','day_of_week']).turn_traffic.transform('mean')\n",
    "df.drop(columns=['turn_traffic','DATE'], inplace=True)\n",
    "df.drop_duplicates(inplace=True)\n",
    "df.head()"
   ]
  },
  {
   "cell_type": "markdown",
   "id": "d89f8130",
   "metadata": {},
   "source": [
    "#### Get Day name from Weekday int"
   ]
  },
  {
   "cell_type": "code",
   "execution_count": 192,
   "id": "e10f9c9f",
   "metadata": {},
   "outputs": [],
   "source": [
    "wkday_dict = {'0':'Mon',\n",
    "             '1':'Tues',\n",
    "             '2':'Weds',\n",
    "             '3':'Thurs',\n",
    "             '4':'Fri',\n",
    "             '5':'Sat',\n",
    "             '6':'Sun'}\n",
    "df.day_of_week = df.day_of_week.map(lambda x : str(x)).map(wkday_dict)"
   ]
  },
  {
   "cell_type": "code",
   "execution_count": 195,
   "id": "282c38d0",
   "metadata": {},
   "outputs": [
    {
     "data": {
      "image/png": "[encoded data removed]",
      "text/plain": [
       "<Figure size 1440x504 with 1 Axes>"
      ]
     },
     "metadata": {},
     "output_type": "display_data"
    }
   ],
   "source": [
    "plt.figure(figsize=[20,7])\n",
    "LIMIT = 9\n",
    "sns.set_style('dark')\n",
    "sns.barplot(x='day_of_week', \n",
    "            y='mean_d_traffic',  \n",
    "            data=df, \n",
    "            order=['Mon','Tues','Weds','Thurs','Fri','Sat','Sun'], color='blue',\n",
    "            ci=None)\n",
    "plt.xlabel('Day of Week', fontsize=20)\n",
    "plt.ylabel('Traffic by Number of People', fontsize=20)\n",
    "plt.title('Average Daily Traffic', fontsize=25, fontstyle='oblique');\n",
    "plt.savefig('Average Daily Traffic')"
   ]
  }
 ],
 "metadata": {
  "kernelspec": {
   "display_name": "Python 3",
   "language": "python",
   "name": "python3"
  },
  "language_info": {
   "codemirror_mode": {
    "name": "ipython",
    "version": 3
   },
   "file_extension": ".py",
   "mimetype": "text/x-python",
   "name": "python",
   "nbconvert_exporter": "python",
   "pygments_lexer": "ipython3",
   "version": "3.8.8"
  }
 },
 "nbformat": 4,
 "nbformat_minor": 5
}
